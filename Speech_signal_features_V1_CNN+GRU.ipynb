{
  "nbformat": 4,
  "nbformat_minor": 0,
  "metadata": {
    "colab": {
      "provenance": [],
      "gpuType": "T4"
    },
    "kernelspec": {
      "name": "python3",
      "display_name": "Python 3"
    },
    "language_info": {
      "name": "python"
    },
    "accelerator": "GPU"
  },
  "cells": [
    {
      "cell_type": "code",
      "execution_count": null,
      "metadata": {
        "colab": {
          "base_uri": "https://localhost:8080/"
        },
        "id": "Jjnn7UIxZC-P",
        "outputId": "b83f7762-a7f3-4870-bd5e-cf9dbb4a01c5"
      },
      "outputs": [
        {
          "output_type": "stream",
          "name": "stdout",
          "text": [
            "Drive already mounted at /content/drive; to attempt to forcibly remount, call drive.mount(\"/content/drive\", force_remount=True).\n"
          ]
        }
      ],
      "source": [
        "from google.colab import drive\n",
        "drive.mount('/content/drive')"
      ]
    },
    {
      "cell_type": "markdown",
      "source": [
        "#CNN+GRU"
      ],
      "metadata": {
        "id": "EtD1c7dqJ9XQ"
      }
    },
    {
      "cell_type": "markdown",
      "source": [
        "In questo tipo di approccio La rete convoluzionale è utilizzata per estrarre una nuova rappresentazione delle features fornite in ingresso, per poi essere fornita in ingresso a dei layer GRU.\n",
        "\n",
        "La rappresentazione verra estrapolata in corrispondenza degi layer \"Dense\" in quanto abbiamo bisogno di una rapresentazione 1-D per fornirla in input ad dei layers GRU."
      ],
      "metadata": {
        "id": "MBYhA6QfJJX7"
      }
    },
    {
      "cell_type": "markdown",
      "source": [
        "# Librerie"
      ],
      "metadata": {
        "id": "4jggr0VLZwEW"
      }
    },
    {
      "cell_type": "code",
      "source": [
        "import pandas as pd\n",
        "from tqdm import tqdm\n",
        "import numpy as np\n",
        "import os\n",
        "import librosa\n",
        "import IPython.display as ipd\n",
        "import matplotlib.pyplot as plt\n",
        "import seaborn as sns\n",
        "import librosa\n",
        "\n",
        "from sklearn.preprocessing import  OneHotEncoder, StandardScaler\n",
        "from keras.utils import to_categorical\n",
        "from sklearn.model_selection import train_test_split\n",
        "from keras.callbacks import ReduceLROnPlateau\n",
        "from sklearn.metrics import confusion_matrix, classification_report\n",
        "from keras.models import Sequential, Model\n",
        "from keras.layers import Dense, Input, Conv2D, MaxPool2D, Dropout, Flatten, Conv1D, MaxPool1D, BatchNormalization\n",
        "import tensorflow"
      ],
      "metadata": {
        "id": "xwczU6SJZiyH"
      },
      "execution_count": null,
      "outputs": []
    },
    {
      "cell_type": "markdown",
      "source": [
        "# Preparazione dei dati"
      ],
      "metadata": {
        "id": "8Ey5NLeJaE6y"
      }
    },
    {
      "cell_type": "markdown",
      "source": [
        "Importazione del dataset \"speech_signal_features_V1s\". Questo dataset contiene le features estratte dai seguenti dataset: Ravdess, SAVEE, TESS, CREMA-D. Le features in questione sono:\n",
        "- Zero crossing rate\n",
        "- Root mean square error\n",
        "- MFFCs"
      ],
      "metadata": {
        "id": "h9XnEzSyajXJ"
      }
    },
    {
      "cell_type": "code",
      "source": [
        "Features_df = pd.read_csv('/content/drive/MyDrive/speech_signal_features_V1.csv')\n",
        "Features_df"
      ],
      "metadata": {
        "colab": {
          "base_uri": "https://localhost:8080/"
        },
        "id": "lhBGMjgYaIHp",
        "outputId": "9d228f06-5347-46f4-9c69-90bc96007179"
      },
      "execution_count": null,
      "outputs": [
        {
          "output_type": "execute_result",
          "data": {
            "text/plain": [
              "              0         1         2         3         4         5         6  \\\n",
              "0      0.331543  0.471680  0.564941  0.452148  0.374512  0.296875  0.265137   \n",
              "1      0.251953  0.373535  0.494141  0.501465  0.482910  0.482422  0.476562   \n",
              "2      0.299805  0.419922  0.525879  0.459473  0.378418  0.326172  0.282227   \n",
              "3      0.261719  0.388672  0.513184  0.509277  0.500977  0.496582  0.486816   \n",
              "4      0.400879  0.591309  0.783203  0.777832  0.771973  0.777832  0.771973   \n",
              "...         ...       ...       ...       ...       ...       ...       ...   \n",
              "48643  0.026855  0.044434  0.062012  0.060547  0.064453  0.059570  0.074219   \n",
              "48644  0.023926  0.035156  0.040527  0.035645  0.032715  0.029297  0.032715   \n",
              "48645  0.025879  0.053711  0.087402  0.104004  0.103027  0.083008  0.062012   \n",
              "48646  0.022461  0.034668  0.041992  0.038086  0.038086  0.034668  0.036133   \n",
              "48647  0.022461  0.034668  0.041992  0.038086  0.038086  0.034668  0.036133   \n",
              "\n",
              "              7         8         9  ...      2367      2368      2369  \\\n",
              "0      0.256348  0.252441  0.251953  ... -1.517647 -1.716411 -1.599245   \n",
              "1      0.463379  0.469238  0.466309  ... -1.614816 -3.268710 -2.181269   \n",
              "2      0.260254  0.258789  0.253906  ...  0.518934  0.839123  1.308966   \n",
              "3      0.487793  0.479980  0.491699  ... -1.774671 -1.750296  1.640066   \n",
              "4      0.775391  0.758789  0.580078  ...  2.585885  2.746578  2.223155   \n",
              "...         ...       ...       ...  ...       ...       ...       ...   \n",
              "48643  0.113281  0.133301  0.141113  ... -2.997387 -2.857280 -0.232463   \n",
              "48644  0.048340  0.125488  0.214844  ... -5.741305 -4.147367 -7.531296   \n",
              "48645  0.067383  0.142090  0.231445  ... -5.524943 -8.097495 -2.270405   \n",
              "48646  0.044434  0.117676  0.207031  ... -4.208822  3.741516 -2.212307   \n",
              "48647  0.044434  0.115723  0.202148  ... -5.233647  2.385797 -0.603511   \n",
              "\n",
              "           2370      2371       2372      2373      2374      2375  Emotions  \n",
              "0     -1.234544 -0.693115  -0.038821  0.675410  1.405862  2.112551  surprise  \n",
              "1     -4.098365 -5.258773  -5.286760 -6.192348 -1.996428  2.875362  surprise  \n",
              "2      1.855113  2.404974   2.896071  3.282975  3.541090  3.666844  surprise  \n",
              "3      1.664761  0.510230   1.624107  0.165312 -0.924339 -2.566185  surprise  \n",
              "4      0.986784 -0.730885  -2.531058 -4.002847 -4.849191 -4.929410   neutral  \n",
              "...         ...       ...        ...       ...       ...       ...       ...  \n",
              "48643 -1.449387  3.244326   3.075974  5.609814  8.831363 -1.798762     angry  \n",
              "48644 -3.492054 -2.512286 -11.724421 -7.290385  1.041336  1.246793     happy  \n",
              "48645 -1.362404 -6.644628  -5.624853 -5.777763 -5.503017 -2.788878     happy  \n",
              "48646  1.554494 -3.257353 -17.360359 -1.698290  6.971038 -4.712044     happy  \n",
              "48647  0.293539 -3.992488 -14.444147 -2.231435  5.424299 -4.705208     happy  \n",
              "\n",
              "[48648 rows x 2377 columns]"
            ],
            "text/html": [
              "\n",
              "  <div id=\"df-39ecac1e-0fd2-4af0-9926-21e10ccbff8c\" class=\"colab-df-container\">\n",
              "    <div>\n",
              "<style scoped>\n",
              "    .dataframe tbody tr th:only-of-type {\n",
              "        vertical-align: middle;\n",
              "    }\n",
              "\n",
              "    .dataframe tbody tr th {\n",
              "        vertical-align: top;\n",
              "    }\n",
              "\n",
              "    .dataframe thead th {\n",
              "        text-align: right;\n",
              "    }\n",
              "</style>\n",
              "<table border=\"1\" class=\"dataframe\">\n",
              "  <thead>\n",
              "    <tr style=\"text-align: right;\">\n",
              "      <th></th>\n",
              "      <th>0</th>\n",
              "      <th>1</th>\n",
              "      <th>2</th>\n",
              "      <th>3</th>\n",
              "      <th>4</th>\n",
              "      <th>5</th>\n",
              "      <th>6</th>\n",
              "      <th>7</th>\n",
              "      <th>8</th>\n",
              "      <th>9</th>\n",
              "      <th>...</th>\n",
              "      <th>2367</th>\n",
              "      <th>2368</th>\n",
              "      <th>2369</th>\n",
              "      <th>2370</th>\n",
              "      <th>2371</th>\n",
              "      <th>2372</th>\n",
              "      <th>2373</th>\n",
              "      <th>2374</th>\n",
              "      <th>2375</th>\n",
              "      <th>Emotions</th>\n",
              "    </tr>\n",
              "  </thead>\n",
              "  <tbody>\n",
              "    <tr>\n",
              "      <th>0</th>\n",
              "      <td>0.331543</td>\n",
              "      <td>0.471680</td>\n",
              "      <td>0.564941</td>\n",
              "      <td>0.452148</td>\n",
              "      <td>0.374512</td>\n",
              "      <td>0.296875</td>\n",
              "      <td>0.265137</td>\n",
              "      <td>0.256348</td>\n",
              "      <td>0.252441</td>\n",
              "      <td>0.251953</td>\n",
              "      <td>...</td>\n",
              "      <td>-1.517647</td>\n",
              "      <td>-1.716411</td>\n",
              "      <td>-1.599245</td>\n",
              "      <td>-1.234544</td>\n",
              "      <td>-0.693115</td>\n",
              "      <td>-0.038821</td>\n",
              "      <td>0.675410</td>\n",
              "      <td>1.405862</td>\n",
              "      <td>2.112551</td>\n",
              "      <td>surprise</td>\n",
              "    </tr>\n",
              "    <tr>\n",
              "      <th>1</th>\n",
              "      <td>0.251953</td>\n",
              "      <td>0.373535</td>\n",
              "      <td>0.494141</td>\n",
              "      <td>0.501465</td>\n",
              "      <td>0.482910</td>\n",
              "      <td>0.482422</td>\n",
              "      <td>0.476562</td>\n",
              "      <td>0.463379</td>\n",
              "      <td>0.469238</td>\n",
              "      <td>0.466309</td>\n",
              "      <td>...</td>\n",
              "      <td>-1.614816</td>\n",
              "      <td>-3.268710</td>\n",
              "      <td>-2.181269</td>\n",
              "      <td>-4.098365</td>\n",
              "      <td>-5.258773</td>\n",
              "      <td>-5.286760</td>\n",
              "      <td>-6.192348</td>\n",
              "      <td>-1.996428</td>\n",
              "      <td>2.875362</td>\n",
              "      <td>surprise</td>\n",
              "    </tr>\n",
              "    <tr>\n",
              "      <th>2</th>\n",
              "      <td>0.299805</td>\n",
              "      <td>0.419922</td>\n",
              "      <td>0.525879</td>\n",
              "      <td>0.459473</td>\n",
              "      <td>0.378418</td>\n",
              "      <td>0.326172</td>\n",
              "      <td>0.282227</td>\n",
              "      <td>0.260254</td>\n",
              "      <td>0.258789</td>\n",
              "      <td>0.253906</td>\n",
              "      <td>...</td>\n",
              "      <td>0.518934</td>\n",
              "      <td>0.839123</td>\n",
              "      <td>1.308966</td>\n",
              "      <td>1.855113</td>\n",
              "      <td>2.404974</td>\n",
              "      <td>2.896071</td>\n",
              "      <td>3.282975</td>\n",
              "      <td>3.541090</td>\n",
              "      <td>3.666844</td>\n",
              "      <td>surprise</td>\n",
              "    </tr>\n",
              "    <tr>\n",
              "      <th>3</th>\n",
              "      <td>0.261719</td>\n",
              "      <td>0.388672</td>\n",
              "      <td>0.513184</td>\n",
              "      <td>0.509277</td>\n",
              "      <td>0.500977</td>\n",
              "      <td>0.496582</td>\n",
              "      <td>0.486816</td>\n",
              "      <td>0.487793</td>\n",
              "      <td>0.479980</td>\n",
              "      <td>0.491699</td>\n",
              "      <td>...</td>\n",
              "      <td>-1.774671</td>\n",
              "      <td>-1.750296</td>\n",
              "      <td>1.640066</td>\n",
              "      <td>1.664761</td>\n",
              "      <td>0.510230</td>\n",
              "      <td>1.624107</td>\n",
              "      <td>0.165312</td>\n",
              "      <td>-0.924339</td>\n",
              "      <td>-2.566185</td>\n",
              "      <td>surprise</td>\n",
              "    </tr>\n",
              "    <tr>\n",
              "      <th>4</th>\n",
              "      <td>0.400879</td>\n",
              "      <td>0.591309</td>\n",
              "      <td>0.783203</td>\n",
              "      <td>0.777832</td>\n",
              "      <td>0.771973</td>\n",
              "      <td>0.777832</td>\n",
              "      <td>0.771973</td>\n",
              "      <td>0.775391</td>\n",
              "      <td>0.758789</td>\n",
              "      <td>0.580078</td>\n",
              "      <td>...</td>\n",
              "      <td>2.585885</td>\n",
              "      <td>2.746578</td>\n",
              "      <td>2.223155</td>\n",
              "      <td>0.986784</td>\n",
              "      <td>-0.730885</td>\n",
              "      <td>-2.531058</td>\n",
              "      <td>-4.002847</td>\n",
              "      <td>-4.849191</td>\n",
              "      <td>-4.929410</td>\n",
              "      <td>neutral</td>\n",
              "    </tr>\n",
              "    <tr>\n",
              "      <th>...</th>\n",
              "      <td>...</td>\n",
              "      <td>...</td>\n",
              "      <td>...</td>\n",
              "      <td>...</td>\n",
              "      <td>...</td>\n",
              "      <td>...</td>\n",
              "      <td>...</td>\n",
              "      <td>...</td>\n",
              "      <td>...</td>\n",
              "      <td>...</td>\n",
              "      <td>...</td>\n",
              "      <td>...</td>\n",
              "      <td>...</td>\n",
              "      <td>...</td>\n",
              "      <td>...</td>\n",
              "      <td>...</td>\n",
              "      <td>...</td>\n",
              "      <td>...</td>\n",
              "      <td>...</td>\n",
              "      <td>...</td>\n",
              "      <td>...</td>\n",
              "    </tr>\n",
              "    <tr>\n",
              "      <th>48643</th>\n",
              "      <td>0.026855</td>\n",
              "      <td>0.044434</td>\n",
              "      <td>0.062012</td>\n",
              "      <td>0.060547</td>\n",
              "      <td>0.064453</td>\n",
              "      <td>0.059570</td>\n",
              "      <td>0.074219</td>\n",
              "      <td>0.113281</td>\n",
              "      <td>0.133301</td>\n",
              "      <td>0.141113</td>\n",
              "      <td>...</td>\n",
              "      <td>-2.997387</td>\n",
              "      <td>-2.857280</td>\n",
              "      <td>-0.232463</td>\n",
              "      <td>-1.449387</td>\n",
              "      <td>3.244326</td>\n",
              "      <td>3.075974</td>\n",
              "      <td>5.609814</td>\n",
              "      <td>8.831363</td>\n",
              "      <td>-1.798762</td>\n",
              "      <td>angry</td>\n",
              "    </tr>\n",
              "    <tr>\n",
              "      <th>48644</th>\n",
              "      <td>0.023926</td>\n",
              "      <td>0.035156</td>\n",
              "      <td>0.040527</td>\n",
              "      <td>0.035645</td>\n",
              "      <td>0.032715</td>\n",
              "      <td>0.029297</td>\n",
              "      <td>0.032715</td>\n",
              "      <td>0.048340</td>\n",
              "      <td>0.125488</td>\n",
              "      <td>0.214844</td>\n",
              "      <td>...</td>\n",
              "      <td>-5.741305</td>\n",
              "      <td>-4.147367</td>\n",
              "      <td>-7.531296</td>\n",
              "      <td>-3.492054</td>\n",
              "      <td>-2.512286</td>\n",
              "      <td>-11.724421</td>\n",
              "      <td>-7.290385</td>\n",
              "      <td>1.041336</td>\n",
              "      <td>1.246793</td>\n",
              "      <td>happy</td>\n",
              "    </tr>\n",
              "    <tr>\n",
              "      <th>48645</th>\n",
              "      <td>0.025879</td>\n",
              "      <td>0.053711</td>\n",
              "      <td>0.087402</td>\n",
              "      <td>0.104004</td>\n",
              "      <td>0.103027</td>\n",
              "      <td>0.083008</td>\n",
              "      <td>0.062012</td>\n",
              "      <td>0.067383</td>\n",
              "      <td>0.142090</td>\n",
              "      <td>0.231445</td>\n",
              "      <td>...</td>\n",
              "      <td>-5.524943</td>\n",
              "      <td>-8.097495</td>\n",
              "      <td>-2.270405</td>\n",
              "      <td>-1.362404</td>\n",
              "      <td>-6.644628</td>\n",
              "      <td>-5.624853</td>\n",
              "      <td>-5.777763</td>\n",
              "      <td>-5.503017</td>\n",
              "      <td>-2.788878</td>\n",
              "      <td>happy</td>\n",
              "    </tr>\n",
              "    <tr>\n",
              "      <th>48646</th>\n",
              "      <td>0.022461</td>\n",
              "      <td>0.034668</td>\n",
              "      <td>0.041992</td>\n",
              "      <td>0.038086</td>\n",
              "      <td>0.038086</td>\n",
              "      <td>0.034668</td>\n",
              "      <td>0.036133</td>\n",
              "      <td>0.044434</td>\n",
              "      <td>0.117676</td>\n",
              "      <td>0.207031</td>\n",
              "      <td>...</td>\n",
              "      <td>-4.208822</td>\n",
              "      <td>3.741516</td>\n",
              "      <td>-2.212307</td>\n",
              "      <td>1.554494</td>\n",
              "      <td>-3.257353</td>\n",
              "      <td>-17.360359</td>\n",
              "      <td>-1.698290</td>\n",
              "      <td>6.971038</td>\n",
              "      <td>-4.712044</td>\n",
              "      <td>happy</td>\n",
              "    </tr>\n",
              "    <tr>\n",
              "      <th>48647</th>\n",
              "      <td>0.022461</td>\n",
              "      <td>0.034668</td>\n",
              "      <td>0.041992</td>\n",
              "      <td>0.038086</td>\n",
              "      <td>0.038086</td>\n",
              "      <td>0.034668</td>\n",
              "      <td>0.036133</td>\n",
              "      <td>0.044434</td>\n",
              "      <td>0.115723</td>\n",
              "      <td>0.202148</td>\n",
              "      <td>...</td>\n",
              "      <td>-5.233647</td>\n",
              "      <td>2.385797</td>\n",
              "      <td>-0.603511</td>\n",
              "      <td>0.293539</td>\n",
              "      <td>-3.992488</td>\n",
              "      <td>-14.444147</td>\n",
              "      <td>-2.231435</td>\n",
              "      <td>5.424299</td>\n",
              "      <td>-4.705208</td>\n",
              "      <td>happy</td>\n",
              "    </tr>\n",
              "  </tbody>\n",
              "</table>\n",
              "<p>48648 rows × 2377 columns</p>\n",
              "</div>\n",
              "    <div class=\"colab-df-buttons\">\n",
              "\n",
              "  <div class=\"colab-df-container\">\n",
              "    <button class=\"colab-df-convert\" onclick=\"convertToInteractive('df-39ecac1e-0fd2-4af0-9926-21e10ccbff8c')\"\n",
              "            title=\"Convert this dataframe to an interactive table.\"\n",
              "            style=\"display:none;\">\n",
              "\n",
              "  <svg xmlns=\"http://www.w3.org/2000/svg\" height=\"24px\" viewBox=\"0 -960 960 960\">\n",
              "    <path d=\"M120-120v-720h720v720H120Zm60-500h600v-160H180v160Zm220 220h160v-160H400v160Zm0 220h160v-160H400v160ZM180-400h160v-160H180v160Zm440 0h160v-160H620v160ZM180-180h160v-160H180v160Zm440 0h160v-160H620v160Z\"/>\n",
              "  </svg>\n",
              "    </button>\n",
              "\n",
              "  <style>\n",
              "    .colab-df-container {\n",
              "      display:flex;\n",
              "      gap: 12px;\n",
              "    }\n",
              "\n",
              "    .colab-df-convert {\n",
              "      background-color: #E8F0FE;\n",
              "      border: none;\n",
              "      border-radius: 50%;\n",
              "      cursor: pointer;\n",
              "      display: none;\n",
              "      fill: #1967D2;\n",
              "      height: 32px;\n",
              "      padding: 0 0 0 0;\n",
              "      width: 32px;\n",
              "    }\n",
              "\n",
              "    .colab-df-convert:hover {\n",
              "      background-color: #E2EBFA;\n",
              "      box-shadow: 0px 1px 2px rgba(60, 64, 67, 0.3), 0px 1px 3px 1px rgba(60, 64, 67, 0.15);\n",
              "      fill: #174EA6;\n",
              "    }\n",
              "\n",
              "    .colab-df-buttons div {\n",
              "      margin-bottom: 4px;\n",
              "    }\n",
              "\n",
              "    [theme=dark] .colab-df-convert {\n",
              "      background-color: #3B4455;\n",
              "      fill: #D2E3FC;\n",
              "    }\n",
              "\n",
              "    [theme=dark] .colab-df-convert:hover {\n",
              "      background-color: #434B5C;\n",
              "      box-shadow: 0px 1px 3px 1px rgba(0, 0, 0, 0.15);\n",
              "      filter: drop-shadow(0px 1px 2px rgba(0, 0, 0, 0.3));\n",
              "      fill: #FFFFFF;\n",
              "    }\n",
              "  </style>\n",
              "\n",
              "    <script>\n",
              "      const buttonEl =\n",
              "        document.querySelector('#df-39ecac1e-0fd2-4af0-9926-21e10ccbff8c button.colab-df-convert');\n",
              "      buttonEl.style.display =\n",
              "        google.colab.kernel.accessAllowed ? 'block' : 'none';\n",
              "\n",
              "      async function convertToInteractive(key) {\n",
              "        const element = document.querySelector('#df-39ecac1e-0fd2-4af0-9926-21e10ccbff8c');\n",
              "        const dataTable =\n",
              "          await google.colab.kernel.invokeFunction('convertToInteractive',\n",
              "                                                    [key], {});\n",
              "        if (!dataTable) return;\n",
              "\n",
              "        const docLinkHtml = 'Like what you see? Visit the ' +\n",
              "          '<a target=\"_blank\" href=https://colab.research.google.com/notebooks/data_table.ipynb>data table notebook</a>'\n",
              "          + ' to learn more about interactive tables.';\n",
              "        element.innerHTML = '';\n",
              "        dataTable['output_type'] = 'display_data';\n",
              "        await google.colab.output.renderOutput(dataTable, element);\n",
              "        const docLink = document.createElement('div');\n",
              "        docLink.innerHTML = docLinkHtml;\n",
              "        element.appendChild(docLink);\n",
              "      }\n",
              "    </script>\n",
              "  </div>\n",
              "\n",
              "\n",
              "<div id=\"df-a88afdbb-bf70-4e1e-99ed-e6068dbc72ac\">\n",
              "  <button class=\"colab-df-quickchart\" onclick=\"quickchart('df-a88afdbb-bf70-4e1e-99ed-e6068dbc72ac')\"\n",
              "            title=\"Suggest charts.\"\n",
              "            style=\"display:none;\">\n",
              "\n",
              "<svg xmlns=\"http://www.w3.org/2000/svg\" height=\"24px\"viewBox=\"0 0 24 24\"\n",
              "     width=\"24px\">\n",
              "    <g>\n",
              "        <path d=\"M19 3H5c-1.1 0-2 .9-2 2v14c0 1.1.9 2 2 2h14c1.1 0 2-.9 2-2V5c0-1.1-.9-2-2-2zM9 17H7v-7h2v7zm4 0h-2V7h2v10zm4 0h-2v-4h2v4z\"/>\n",
              "    </g>\n",
              "</svg>\n",
              "  </button>\n",
              "\n",
              "<style>\n",
              "  .colab-df-quickchart {\n",
              "      --bg-color: #E8F0FE;\n",
              "      --fill-color: #1967D2;\n",
              "      --hover-bg-color: #E2EBFA;\n",
              "      --hover-fill-color: #174EA6;\n",
              "      --disabled-fill-color: #AAA;\n",
              "      --disabled-bg-color: #DDD;\n",
              "  }\n",
              "\n",
              "  [theme=dark] .colab-df-quickchart {\n",
              "      --bg-color: #3B4455;\n",
              "      --fill-color: #D2E3FC;\n",
              "      --hover-bg-color: #434B5C;\n",
              "      --hover-fill-color: #FFFFFF;\n",
              "      --disabled-bg-color: #3B4455;\n",
              "      --disabled-fill-color: #666;\n",
              "  }\n",
              "\n",
              "  .colab-df-quickchart {\n",
              "    background-color: var(--bg-color);\n",
              "    border: none;\n",
              "    border-radius: 50%;\n",
              "    cursor: pointer;\n",
              "    display: none;\n",
              "    fill: var(--fill-color);\n",
              "    height: 32px;\n",
              "    padding: 0;\n",
              "    width: 32px;\n",
              "  }\n",
              "\n",
              "  .colab-df-quickchart:hover {\n",
              "    background-color: var(--hover-bg-color);\n",
              "    box-shadow: 0 1px 2px rgba(60, 64, 67, 0.3), 0 1px 3px 1px rgba(60, 64, 67, 0.15);\n",
              "    fill: var(--button-hover-fill-color);\n",
              "  }\n",
              "\n",
              "  .colab-df-quickchart-complete:disabled,\n",
              "  .colab-df-quickchart-complete:disabled:hover {\n",
              "    background-color: var(--disabled-bg-color);\n",
              "    fill: var(--disabled-fill-color);\n",
              "    box-shadow: none;\n",
              "  }\n",
              "\n",
              "  .colab-df-spinner {\n",
              "    border: 2px solid var(--fill-color);\n",
              "    border-color: transparent;\n",
              "    border-bottom-color: var(--fill-color);\n",
              "    animation:\n",
              "      spin 1s steps(1) infinite;\n",
              "  }\n",
              "\n",
              "  @keyframes spin {\n",
              "    0% {\n",
              "      border-color: transparent;\n",
              "      border-bottom-color: var(--fill-color);\n",
              "      border-left-color: var(--fill-color);\n",
              "    }\n",
              "    20% {\n",
              "      border-color: transparent;\n",
              "      border-left-color: var(--fill-color);\n",
              "      border-top-color: var(--fill-color);\n",
              "    }\n",
              "    30% {\n",
              "      border-color: transparent;\n",
              "      border-left-color: var(--fill-color);\n",
              "      border-top-color: var(--fill-color);\n",
              "      border-right-color: var(--fill-color);\n",
              "    }\n",
              "    40% {\n",
              "      border-color: transparent;\n",
              "      border-right-color: var(--fill-color);\n",
              "      border-top-color: var(--fill-color);\n",
              "    }\n",
              "    60% {\n",
              "      border-color: transparent;\n",
              "      border-right-color: var(--fill-color);\n",
              "    }\n",
              "    80% {\n",
              "      border-color: transparent;\n",
              "      border-right-color: var(--fill-color);\n",
              "      border-bottom-color: var(--fill-color);\n",
              "    }\n",
              "    90% {\n",
              "      border-color: transparent;\n",
              "      border-bottom-color: var(--fill-color);\n",
              "    }\n",
              "  }\n",
              "</style>\n",
              "\n",
              "  <script>\n",
              "    async function quickchart(key) {\n",
              "      const quickchartButtonEl =\n",
              "        document.querySelector('#' + key + ' button');\n",
              "      quickchartButtonEl.disabled = true;  // To prevent multiple clicks.\n",
              "      quickchartButtonEl.classList.add('colab-df-spinner');\n",
              "      try {\n",
              "        const charts = await google.colab.kernel.invokeFunction(\n",
              "            'suggestCharts', [key], {});\n",
              "      } catch (error) {\n",
              "        console.error('Error during call to suggestCharts:', error);\n",
              "      }\n",
              "      quickchartButtonEl.classList.remove('colab-df-spinner');\n",
              "      quickchartButtonEl.classList.add('colab-df-quickchart-complete');\n",
              "    }\n",
              "    (() => {\n",
              "      let quickchartButtonEl =\n",
              "        document.querySelector('#df-a88afdbb-bf70-4e1e-99ed-e6068dbc72ac button');\n",
              "      quickchartButtonEl.style.display =\n",
              "        google.colab.kernel.accessAllowed ? 'block' : 'none';\n",
              "    })();\n",
              "  </script>\n",
              "</div>\n",
              "    </div>\n",
              "  </div>\n"
            ]
          },
          "metadata": {},
          "execution_count": 20
        }
      ]
    },
    {
      "cell_type": "markdown",
      "source": [
        "Di seguito è riportato il controllo relativo ai valori NaN all'interno del dataset. Nel caso fossero presenti sono sostituiti con valori nulli"
      ],
      "metadata": {
        "id": "dtZI8sZaarsW"
      }
    },
    {
      "cell_type": "code",
      "source": [
        "Features_df.isna().values.any()"
      ],
      "metadata": {
        "colab": {
          "base_uri": "https://localhost:8080/"
        },
        "id": "UGKR3joCaPIs",
        "outputId": "59330505-a3b2-4ce5-ae1f-a578df3c0498"
      },
      "execution_count": null,
      "outputs": [
        {
          "output_type": "execute_result",
          "data": {
            "text/plain": [
              "True"
            ]
          },
          "metadata": {},
          "execution_count": 21
        }
      ]
    },
    {
      "cell_type": "code",
      "source": [
        "Features_df=Features_df.fillna(0)\n",
        "np.sum(Features_df.isna())"
      ],
      "metadata": {
        "colab": {
          "base_uri": "https://localhost:8080/"
        },
        "id": "AtN2ejmaaPFD",
        "outputId": "34310bef-4ffe-460c-8864-3bb851424d4d"
      },
      "execution_count": null,
      "outputs": [
        {
          "output_type": "execute_result",
          "data": {
            "text/plain": [
              "0           0\n",
              "1           0\n",
              "2           0\n",
              "3           0\n",
              "4           0\n",
              "           ..\n",
              "2372        0\n",
              "2373        0\n",
              "2374        0\n",
              "2375        0\n",
              "Emotions    0\n",
              "Length: 2377, dtype: int64"
            ]
          },
          "metadata": {},
          "execution_count": 22
        }
      ]
    },
    {
      "cell_type": "code",
      "source": [
        "Features_df.isna().values.any()"
      ],
      "metadata": {
        "colab": {
          "base_uri": "https://localhost:8080/"
        },
        "id": "gveHjEcoaPCd",
        "outputId": "473fbf57-51fa-473b-9801-9a1ef5c51002"
      },
      "execution_count": null,
      "outputs": [
        {
          "output_type": "execute_result",
          "data": {
            "text/plain": [
              "False"
            ]
          },
          "metadata": {},
          "execution_count": 23
        }
      ]
    },
    {
      "cell_type": "markdown",
      "source": [
        "A questo punto vengono creati i set di training e di testing"
      ],
      "metadata": {
        "id": "O0jmRLfXbQ-L"
      }
    },
    {
      "cell_type": "code",
      "source": [
        "X = Features_df.iloc[: ,:-1].values\n",
        "Y = Features_df['Emotions'].values\n",
        "\n",
        "encoder = OneHotEncoder()\n",
        "Y = encoder.fit_transform(np.array(Y).reshape(-1,1)).toarray().astype(int)\n",
        "x_train, x_test, y_train, y_test = train_test_split(X, Y, test_size=0.2, random_state = 3)"
      ],
      "metadata": {
        "id": "5EWgoQ6LaPAE"
      },
      "execution_count": null,
      "outputs": []
    },
    {
      "cell_type": "code",
      "source": [
        "print(x_train.shape)\n",
        "print(y_train.shape)\n",
        "print(x_test.shape)\n",
        "print(y_test.shape)"
      ],
      "metadata": {
        "colab": {
          "base_uri": "https://localhost:8080/"
        },
        "id": "lyEtGTa-aO9j",
        "outputId": "ac316f68-c097-4fb4-c27e-ea95fd4368b1"
      },
      "execution_count": null,
      "outputs": [
        {
          "output_type": "stream",
          "name": "stdout",
          "text": [
            "(38918, 2376)\n",
            "(38918, 7)\n",
            "(9730, 2376)\n",
            "(9730, 7)\n"
          ]
        }
      ]
    },
    {
      "cell_type": "code",
      "source": [
        "scaler = StandardScaler()\n",
        "x_train = scaler.fit_transform(x_train)\n",
        "x_test = scaler.transform(x_test)\n",
        "x_train.shape, y_train.shape, x_test.shape, y_test.shape\n"
      ],
      "metadata": {
        "colab": {
          "base_uri": "https://localhost:8080/"
        },
        "id": "W3Jfzq-gaO50",
        "outputId": "ec6577b7-5313-413b-fdbe-c087cad76da4"
      },
      "execution_count": null,
      "outputs": [
        {
          "output_type": "execute_result",
          "data": {
            "text/plain": [
              "((38918, 2376), (38918, 7), (9730, 2376), (9730, 7))"
            ]
          },
          "metadata": {},
          "execution_count": 26
        }
      ]
    },
    {
      "cell_type": "markdown",
      "source": [
        "Dato che questo tipo di architetture prende in input una sequenza in questo caso non serve aggiungere una dimensione fittizia ai nostri dati"
      ],
      "metadata": {
        "id": "pFSiw8-8r0qu"
      }
    },
    {
      "cell_type": "markdown",
      "source": [
        "#Architettura CNN+GRU"
      ],
      "metadata": {
        "id": "vdTlKPLVcFRt"
      }
    },
    {
      "cell_type": "code",
      "source": [
        "from keras import layers, optimizers\n",
        "def build_model(input_shape):\n",
        "    model = tensorflow.keras.Sequential()\n",
        "\n",
        "    model.add(Conv1D(128, 3, activation = \"relu\",input_shape=input_shape))\n",
        "    model.add(BatchNormalization())\n",
        "    model.add(MaxPool1D(pool_size=2))\n",
        "\n",
        "    model.add(Conv1D(128, 3, activation = \"relu\"))\n",
        "    model.add(BatchNormalization())\n",
        "    model.add(MaxPool1D(pool_size=2))\n",
        "\n",
        "    model.add(layers.Dense(128, activation='relu'))\n",
        "    model.add(Dropout(0.3))\n",
        "\n",
        "    model.add(layers.Dense(64, activation='relu'))\n",
        "    model.add(Dropout(0.3))\n",
        "\n",
        "    model.add(layers.GRU(128, return_sequences=True))\n",
        "    model.add(Dropout(0.2))\n",
        "    model.add(layers.GRU(128,return_sequences=False))\n",
        "    model.add(Dropout(0.2))\n",
        "\n",
        "    model.add(layers.Dense(7, activation='softmax'))\n",
        "\n",
        "    return model"
      ],
      "metadata": {
        "id": "MhNtfxdYMVXH"
      },
      "execution_count": null,
      "outputs": []
    },
    {
      "cell_type": "code",
      "source": [
        "model = build_model((x_train.shape[1],1))"
      ],
      "metadata": {
        "id": "8cAdG1Y5MpNg"
      },
      "execution_count": null,
      "outputs": []
    },
    {
      "cell_type": "code",
      "source": [
        "model.compile(loss='categorical_crossentropy',optimizer='adam',metrics=['accuracy'])\n",
        "model.summary()"
      ],
      "metadata": {
        "colab": {
          "base_uri": "https://localhost:8080/"
        },
        "id": "h43XcykpMiP9",
        "outputId": "b4263853-aeb5-4d44-c51f-5d43aca01d88"
      },
      "execution_count": null,
      "outputs": [
        {
          "output_type": "stream",
          "name": "stdout",
          "text": [
            "Model: \"sequential_3\"\n",
            "_________________________________________________________________\n",
            " Layer (type)                Output Shape              Param #   \n",
            "=================================================================\n",
            " conv1d_4 (Conv1D)           (None, 2374, 128)         512       \n",
            "                                                                 \n",
            " batch_normalization_4 (Bat  (None, 2374, 128)         512       \n",
            " chNormalization)                                                \n",
            "                                                                 \n",
            " max_pooling1d_4 (MaxPoolin  (None, 1187, 128)         0         \n",
            " g1D)                                                            \n",
            "                                                                 \n",
            " conv1d_5 (Conv1D)           (None, 1185, 128)         49280     \n",
            "                                                                 \n",
            " batch_normalization_5 (Bat  (None, 1185, 128)         512       \n",
            " chNormalization)                                                \n",
            "                                                                 \n",
            " max_pooling1d_5 (MaxPoolin  (None, 592, 128)          0         \n",
            " g1D)                                                            \n",
            "                                                                 \n",
            " dense_5 (Dense)             (None, 592, 128)          16512     \n",
            "                                                                 \n",
            " dropout_7 (Dropout)         (None, 592, 128)          0         \n",
            "                                                                 \n",
            " dense_6 (Dense)             (None, 592, 64)           8256      \n",
            "                                                                 \n",
            " dropout_8 (Dropout)         (None, 592, 64)           0         \n",
            "                                                                 \n",
            " gru_3 (GRU)                 (None, 592, 128)          74496     \n",
            "                                                                 \n",
            " dropout_9 (Dropout)         (None, 592, 128)          0         \n",
            "                                                                 \n",
            " gru_4 (GRU)                 (None, 128)               99072     \n",
            "                                                                 \n",
            " dropout_10 (Dropout)        (None, 128)               0         \n",
            "                                                                 \n",
            " dense_7 (Dense)             (None, 7)                 903       \n",
            "                                                                 \n",
            "=================================================================\n",
            "Total params: 250055 (976.78 KB)\n",
            "Trainable params: 249543 (974.78 KB)\n",
            "Non-trainable params: 512 (2.00 KB)\n",
            "_________________________________________________________________\n"
          ]
        }
      ]
    },
    {
      "cell_type": "code",
      "source": [
        "hist=model.fit(x_train, y_train,\n",
        "            epochs=50,\n",
        "            validation_data=(x_test, y_test),batch_size=64,\n",
        "            verbose=1)"
      ],
      "metadata": {
        "colab": {
          "base_uri": "https://localhost:8080/"
        },
        "id": "Xt1rtYYwM4n0",
        "outputId": "fcf8946c-28f7-4411-e9dd-9eb7618bc8e7"
      },
      "execution_count": null,
      "outputs": [
        {
          "output_type": "stream",
          "name": "stdout",
          "text": [
            "Epoch 1/50\n",
            "609/609 [==============================] - 69s 101ms/step - loss: 1.8981 - accuracy: 0.1781 - val_loss: 1.8856 - val_accuracy: 0.1872\n",
            "Epoch 2/50\n",
            "609/609 [==============================] - 60s 98ms/step - loss: 1.8826 - accuracy: 0.1890 - val_loss: 1.8798 - val_accuracy: 0.1936\n",
            "Epoch 3/50\n",
            "609/609 [==============================] - 61s 99ms/step - loss: 1.8723 - accuracy: 0.1942 - val_loss: 1.8551 - val_accuracy: 0.2246\n",
            "Epoch 4/50\n",
            "609/609 [==============================] - 61s 99ms/step - loss: 1.6918 - accuracy: 0.3032 - val_loss: 1.4969 - val_accuracy: 0.3960\n",
            "Epoch 5/50\n",
            "609/609 [==============================] - 60s 99ms/step - loss: 1.3684 - accuracy: 0.4537 - val_loss: 1.2105 - val_accuracy: 0.5221\n",
            "Epoch 6/50\n",
            "609/609 [==============================] - 60s 99ms/step - loss: 1.1923 - accuracy: 0.5328 - val_loss: 1.1515 - val_accuracy: 0.5471\n",
            "Epoch 7/50\n",
            "609/609 [==============================] - 61s 100ms/step - loss: 1.1017 - accuracy: 0.5710 - val_loss: 1.1139 - val_accuracy: 0.5696\n",
            "Epoch 8/50\n",
            "609/609 [==============================] - 61s 99ms/step - loss: 1.0474 - accuracy: 0.5919 - val_loss: 1.0172 - val_accuracy: 0.6038\n",
            "Epoch 9/50\n",
            "609/609 [==============================] - 60s 99ms/step - loss: 0.9960 - accuracy: 0.6144 - val_loss: 0.9557 - val_accuracy: 0.6293\n",
            "Epoch 10/50\n",
            "609/609 [==============================] - 61s 100ms/step - loss: 0.9508 - accuracy: 0.6330 - val_loss: 1.0080 - val_accuracy: 0.6043\n",
            "Epoch 11/50\n",
            "609/609 [==============================] - 61s 100ms/step - loss: 0.9152 - accuracy: 0.6474 - val_loss: 0.9902 - val_accuracy: 0.6209\n",
            "Epoch 12/50\n",
            "609/609 [==============================] - 61s 99ms/step - loss: 0.8882 - accuracy: 0.6579 - val_loss: 0.9063 - val_accuracy: 0.6523\n",
            "Epoch 13/50\n",
            "609/609 [==============================] - 61s 100ms/step - loss: 0.8523 - accuracy: 0.6730 - val_loss: 0.8893 - val_accuracy: 0.6585\n",
            "Epoch 14/50\n",
            "609/609 [==============================] - 60s 99ms/step - loss: 0.8236 - accuracy: 0.6837 - val_loss: 0.8313 - val_accuracy: 0.6834\n",
            "Epoch 15/50\n",
            "609/609 [==============================] - 60s 99ms/step - loss: 0.7955 - accuracy: 0.6970 - val_loss: 0.8791 - val_accuracy: 0.6584\n",
            "Epoch 16/50\n",
            "609/609 [==============================] - 61s 100ms/step - loss: 0.7738 - accuracy: 0.7035 - val_loss: 0.8414 - val_accuracy: 0.6701\n",
            "Epoch 17/50\n",
            "609/609 [==============================] - 61s 100ms/step - loss: 0.7469 - accuracy: 0.7183 - val_loss: 0.8244 - val_accuracy: 0.6849\n",
            "Epoch 18/50\n",
            "609/609 [==============================] - 61s 100ms/step - loss: 0.7228 - accuracy: 0.7251 - val_loss: 0.7970 - val_accuracy: 0.6898\n",
            "Epoch 19/50\n",
            "609/609 [==============================] - 61s 100ms/step - loss: 0.7050 - accuracy: 0.7337 - val_loss: 0.7531 - val_accuracy: 0.7106\n",
            "Epoch 20/50\n",
            "609/609 [==============================] - 61s 100ms/step - loss: 0.6815 - accuracy: 0.7414 - val_loss: 0.7523 - val_accuracy: 0.7142\n",
            "Epoch 21/50\n",
            "609/609 [==============================] - 61s 100ms/step - loss: 0.6593 - accuracy: 0.7520 - val_loss: 0.8340 - val_accuracy: 0.6777\n",
            "Epoch 22/50\n",
            "609/609 [==============================] - 61s 100ms/step - loss: 0.6406 - accuracy: 0.7594 - val_loss: 0.7859 - val_accuracy: 0.6993\n",
            "Epoch 23/50\n",
            "609/609 [==============================] - 61s 100ms/step - loss: 0.6269 - accuracy: 0.7663 - val_loss: 0.7507 - val_accuracy: 0.7208\n",
            "Epoch 24/50\n",
            "609/609 [==============================] - 61s 100ms/step - loss: 0.6047 - accuracy: 0.7728 - val_loss: 0.7059 - val_accuracy: 0.7353\n",
            "Epoch 25/50\n",
            "609/609 [==============================] - 61s 101ms/step - loss: 0.5908 - accuracy: 0.7789 - val_loss: 0.7472 - val_accuracy: 0.7259\n",
            "Epoch 26/50\n",
            "609/609 [==============================] - 61s 100ms/step - loss: 0.5717 - accuracy: 0.7850 - val_loss: 0.7246 - val_accuracy: 0.7277\n",
            "Epoch 27/50\n",
            "609/609 [==============================] - 61s 100ms/step - loss: 0.5614 - accuracy: 0.7914 - val_loss: 0.6597 - val_accuracy: 0.7493\n",
            "Epoch 28/50\n",
            "609/609 [==============================] - 61s 100ms/step - loss: 0.5396 - accuracy: 0.7995 - val_loss: 0.6599 - val_accuracy: 0.7543\n",
            "Epoch 29/50\n",
            "609/609 [==============================] - 61s 101ms/step - loss: 0.5198 - accuracy: 0.8062 - val_loss: 0.7531 - val_accuracy: 0.7205\n",
            "Epoch 30/50\n",
            "609/609 [==============================] - 61s 101ms/step - loss: 0.5092 - accuracy: 0.8112 - val_loss: 0.6792 - val_accuracy: 0.7543\n",
            "Epoch 31/50\n",
            "609/609 [==============================] - 61s 100ms/step - loss: 0.4929 - accuracy: 0.8186 - val_loss: 0.7190 - val_accuracy: 0.7369\n",
            "Epoch 32/50\n",
            "609/609 [==============================] - 61s 100ms/step - loss: 0.4825 - accuracy: 0.8210 - val_loss: 0.6573 - val_accuracy: 0.7661\n",
            "Epoch 33/50\n",
            "609/609 [==============================] - 61s 99ms/step - loss: 0.4674 - accuracy: 0.8259 - val_loss: 0.6170 - val_accuracy: 0.7715\n",
            "Epoch 34/50\n",
            "609/609 [==============================] - 61s 100ms/step - loss: 0.4561 - accuracy: 0.8318 - val_loss: 0.7084 - val_accuracy: 0.7442\n",
            "Epoch 35/50\n",
            "609/609 [==============================] - 61s 100ms/step - loss: 0.4429 - accuracy: 0.8352 - val_loss: 0.6481 - val_accuracy: 0.7707\n",
            "Epoch 36/50\n",
            "609/609 [==============================] - 61s 100ms/step - loss: 0.4303 - accuracy: 0.8431 - val_loss: 0.6281 - val_accuracy: 0.7777\n",
            "Epoch 37/50\n",
            "609/609 [==============================] - 61s 100ms/step - loss: 0.4106 - accuracy: 0.8504 - val_loss: 0.6376 - val_accuracy: 0.7768\n",
            "Epoch 38/50\n",
            "609/609 [==============================] - 61s 101ms/step - loss: 0.4084 - accuracy: 0.8511 - val_loss: 0.6854 - val_accuracy: 0.7591\n",
            "Epoch 39/50\n",
            "609/609 [==============================] - 61s 100ms/step - loss: 0.3984 - accuracy: 0.8549 - val_loss: 0.6660 - val_accuracy: 0.7692\n",
            "Epoch 40/50\n",
            "609/609 [==============================] - 61s 100ms/step - loss: 0.3843 - accuracy: 0.8606 - val_loss: 0.6066 - val_accuracy: 0.7851\n",
            "Epoch 41/50\n",
            "609/609 [==============================] - 61s 100ms/step - loss: 0.3766 - accuracy: 0.8618 - val_loss: 0.6352 - val_accuracy: 0.7777\n",
            "Epoch 42/50\n",
            "609/609 [==============================] - 61s 100ms/step - loss: 0.3733 - accuracy: 0.8655 - val_loss: 0.5559 - val_accuracy: 0.8021\n",
            "Epoch 43/50\n",
            "609/609 [==============================] - 61s 100ms/step - loss: 0.3607 - accuracy: 0.8682 - val_loss: 0.6012 - val_accuracy: 0.7933\n",
            "Epoch 44/50\n",
            "609/609 [==============================] - 60s 99ms/step - loss: 0.3486 - accuracy: 0.8735 - val_loss: 0.5982 - val_accuracy: 0.7945\n",
            "Epoch 45/50\n",
            "609/609 [==============================] - 61s 100ms/step - loss: 0.3354 - accuracy: 0.8777 - val_loss: 0.6132 - val_accuracy: 0.7905\n",
            "Epoch 46/50\n",
            "609/609 [==============================] - 61s 100ms/step - loss: 0.3380 - accuracy: 0.8776 - val_loss: 0.5853 - val_accuracy: 0.7977\n",
            "Epoch 47/50\n",
            "609/609 [==============================] - 61s 101ms/step - loss: 0.3156 - accuracy: 0.8853 - val_loss: 0.5902 - val_accuracy: 0.8022\n",
            "Epoch 48/50\n",
            "609/609 [==============================] - 61s 100ms/step - loss: 0.3202 - accuracy: 0.8858 - val_loss: 0.6246 - val_accuracy: 0.7940\n",
            "Epoch 49/50\n",
            "609/609 [==============================] - 61s 100ms/step - loss: 0.3038 - accuracy: 0.8910 - val_loss: 0.5422 - val_accuracy: 0.8236\n",
            "Epoch 50/50\n",
            "609/609 [==============================] - 61s 101ms/step - loss: 0.3040 - accuracy: 0.8913 - val_loss: 0.5563 - val_accuracy: 0.8181\n"
          ]
        }
      ]
    },
    {
      "cell_type": "code",
      "source": [
        "print(\"Accuratezza del modello sulla base dei dati di test: \" , model.evaluate(x_test,y_test)[1]*100 , \"%\")\n",
        "epochs = [i for i in range(50)]\n",
        "fig , ax = plt.subplots(1,2)\n",
        "train_acc = hist.history['accuracy']\n",
        "train_loss = hist.history['loss']\n",
        "test_acc = hist.history['val_accuracy']\n",
        "test_loss = hist.history['val_loss']\n",
        "\n",
        "fig.set_size_inches(20,6)\n",
        "ax[0].plot(epochs , train_loss , label = 'Training Loss')\n",
        "ax[0].plot(epochs , test_loss , label = 'Testing Loss')\n",
        "ax[0].set_title('Training & Testing Loss')\n",
        "ax[0].legend()\n",
        "ax[0].set_xlabel(\"Epochs\")\n",
        "\n",
        "ax[1].plot(epochs , train_acc , label = 'Training Accuracy')\n",
        "ax[1].plot(epochs , test_acc , label = 'Testing Accuracy')\n",
        "ax[1].set_title('Training & Testing Accuracy')\n",
        "ax[1].legend()\n",
        "ax[1].set_xlabel(\"Epochs\")\n",
        "plt.show()"
      ],
      "metadata": {
        "colab": {
          "base_uri": "https://localhost:8080/",
          "height": 408
        },
        "id": "ttUlMTCMM957",
        "outputId": "2944eabe-b70f-4cf9-9701-bc0fa43ff03c"
      },
      "execution_count": null,
      "outputs": [
        {
          "output_type": "stream",
          "name": "stdout",
          "text": [
            "305/305 [==============================] - 8s 24ms/step - loss: 0.5563 - accuracy: 0.8181\n",
            "Accuratezza del modello sulla base dei dati di test:  81.80884122848511 %\n"
          ]
        },
        {
          "output_type": "display_data",
          "data": {
            "text/plain": [
              "<Figure size 2000x600 with 2 Axes>"
            ],
            "image/png": "[encoded data removed]"
          },
          "metadata": {}
        }
      ]
    },
    {
      "cell_type": "markdown",
      "source": [
        "# Evaluation model"
      ],
      "metadata": {
        "id": "pbvGoiPUchNF"
      }
    },
    {
      "cell_type": "code",
      "source": [
        "# predicting on test data.\n",
        "pred_test = model.predict(x_test)\n",
        "y_pred = encoder.inverse_transform(pred_test)\n",
        "\n",
        "y_test = encoder.inverse_transform(y_test)"
      ],
      "metadata": {
        "colab": {
          "base_uri": "https://localhost:8080/"
        },
        "id": "4uo-Z-XFcoA0",
        "outputId": "fea8d3b9-e6e0-48f2-ad69-8adff1da73d3"
      },
      "execution_count": null,
      "outputs": [
        {
          "output_type": "stream",
          "name": "stdout",
          "text": [
            "305/305 [==============================] - 7s 22ms/step\n"
          ]
        }
      ]
    },
    {
      "cell_type": "code",
      "source": [
        "df = pd.DataFrame(columns=['Predicted Labels', 'Actual Labels'])\n",
        "df['Predicted Labels'] = y_pred.flatten()\n",
        "df['Actual Labels'] = y_test.flatten()\n",
        "\n",
        "df.head(10)"
      ],
      "metadata": {
        "colab": {
          "base_uri": "https://localhost:8080/",
          "height": 363
        },
        "id": "z8os071fcn-O",
        "outputId": "fbbc5fff-a01c-419c-ddbb-5964e922b7c5"
      },
      "execution_count": null,
      "outputs": [
        {
          "output_type": "execute_result",
          "data": {
            "text/plain": [
              "  Predicted Labels Actual Labels\n",
              "0            angry         angry\n",
              "1              sad           sad\n",
              "2          neutral       neutral\n",
              "3              sad           sad\n",
              "4            angry         angry\n",
              "5              sad           sad\n",
              "6             fear          fear\n",
              "7              sad       neutral\n",
              "8            angry         angry\n",
              "9              sad           sad"
            ],
            "text/html": [
              "\n",
              "  <div id=\"df-ed566727-6326-41e8-96b1-84add9635b5e\" class=\"colab-df-container\">\n",
              "    <div>\n",
              "<style scoped>\n",
              "    .dataframe tbody tr th:only-of-type {\n",
              "        vertical-align: middle;\n",
              "    }\n",
              "\n",
              "    .dataframe tbody tr th {\n",
              "        vertical-align: top;\n",
              "    }\n",
              "\n",
              "    .dataframe thead th {\n",
              "        text-align: right;\n",
              "    }\n",
              "</style>\n",
              "<table border=\"1\" class=\"dataframe\">\n",
              "  <thead>\n",
              "    <tr style=\"text-align: right;\">\n",
              "      <th></th>\n",
              "      <th>Predicted Labels</th>\n",
              "      <th>Actual Labels</th>\n",
              "    </tr>\n",
              "  </thead>\n",
              "  <tbody>\n",
              "    <tr>\n",
              "      <th>0</th>\n",
              "      <td>angry</td>\n",
              "      <td>angry</td>\n",
              "    </tr>\n",
              "    <tr>\n",
              "      <th>1</th>\n",
              "      <td>sad</td>\n",
              "      <td>sad</td>\n",
              "    </tr>\n",
              "    <tr>\n",
              "      <th>2</th>\n",
              "      <td>neutral</td>\n",
              "      <td>neutral</td>\n",
              "    </tr>\n",
              "    <tr>\n",
              "      <th>3</th>\n",
              "      <td>sad</td>\n",
              "      <td>sad</td>\n",
              "    </tr>\n",
              "    <tr>\n",
              "      <th>4</th>\n",
              "      <td>angry</td>\n",
              "      <td>angry</td>\n",
              "    </tr>\n",
              "    <tr>\n",
              "      <th>5</th>\n",
              "      <td>sad</td>\n",
              "      <td>sad</td>\n",
              "    </tr>\n",
              "    <tr>\n",
              "      <th>6</th>\n",
              "      <td>fear</td>\n",
              "      <td>fear</td>\n",
              "    </tr>\n",
              "    <tr>\n",
              "      <th>7</th>\n",
              "      <td>sad</td>\n",
              "      <td>neutral</td>\n",
              "    </tr>\n",
              "    <tr>\n",
              "      <th>8</th>\n",
              "      <td>angry</td>\n",
              "      <td>angry</td>\n",
              "    </tr>\n",
              "    <tr>\n",
              "      <th>9</th>\n",
              "      <td>sad</td>\n",
              "      <td>sad</td>\n",
              "    </tr>\n",
              "  </tbody>\n",
              "</table>\n",
              "</div>\n",
              "    <div class=\"colab-df-buttons\">\n",
              "\n",
              "  <div class=\"colab-df-container\">\n",
              "    <button class=\"colab-df-convert\" onclick=\"convertToInteractive('df-ed566727-6326-41e8-96b1-84add9635b5e')\"\n",
              "            title=\"Convert this dataframe to an interactive table.\"\n",
              "            style=\"display:none;\">\n",
              "\n",
              "  <svg xmlns=\"http://www.w3.org/2000/svg\" height=\"24px\" viewBox=\"0 -960 960 960\">\n",
              "    <path d=\"M120-120v-720h720v720H120Zm60-500h600v-160H180v160Zm220 220h160v-160H400v160Zm0 220h160v-160H400v160ZM180-400h160v-160H180v160Zm440 0h160v-160H620v160ZM180-180h160v-160H180v160Zm440 0h160v-160H620v160Z\"/>\n",
              "  </svg>\n",
              "    </button>\n",
              "\n",
              "  <style>\n",
              "    .colab-df-container {\n",
              "      display:flex;\n",
              "      gap: 12px;\n",
              "    }\n",
              "\n",
              "    .colab-df-convert {\n",
              "      background-color: #E8F0FE;\n",
              "      border: none;\n",
              "      border-radius: 50%;\n",
              "      cursor: pointer;\n",
              "      display: none;\n",
              "      fill: #1967D2;\n",
              "      height: 32px;\n",
              "      padding: 0 0 0 0;\n",
              "      width: 32px;\n",
              "    }\n",
              "\n",
              "    .colab-df-convert:hover {\n",
              "      background-color: #E2EBFA;\n",
              "      box-shadow: 0px 1px 2px rgba(60, 64, 67, 0.3), 0px 1px 3px 1px rgba(60, 64, 67, 0.15);\n",
              "      fill: #174EA6;\n",
              "    }\n",
              "\n",
              "    .colab-df-buttons div {\n",
              "      margin-bottom: 4px;\n",
              "    }\n",
              "\n",
              "    [theme=dark] .colab-df-convert {\n",
              "      background-color: #3B4455;\n",
              "      fill: #D2E3FC;\n",
              "    }\n",
              "\n",
              "    [theme=dark] .colab-df-convert:hover {\n",
              "      background-color: #434B5C;\n",
              "      box-shadow: 0px 1px 3px 1px rgba(0, 0, 0, 0.15);\n",
              "      filter: drop-shadow(0px 1px 2px rgba(0, 0, 0, 0.3));\n",
              "      fill: #FFFFFF;\n",
              "    }\n",
              "  </style>\n",
              "\n",
              "    <script>\n",
              "      const buttonEl =\n",
              "        document.querySelector('#df-ed566727-6326-41e8-96b1-84add9635b5e button.colab-df-convert');\n",
              "      buttonEl.style.display =\n",
              "        google.colab.kernel.accessAllowed ? 'block' : 'none';\n",
              "\n",
              "      async function convertToInteractive(key) {\n",
              "        const element = document.querySelector('#df-ed566727-6326-41e8-96b1-84add9635b5e');\n",
              "        const dataTable =\n",
              "          await google.colab.kernel.invokeFunction('convertToInteractive',\n",
              "                                                    [key], {});\n",
              "        if (!dataTable) return;\n",
              "\n",
              "        const docLinkHtml = 'Like what you see? Visit the ' +\n",
              "          '<a target=\"_blank\" href=https://colab.research.google.com/notebooks/data_table.ipynb>data table notebook</a>'\n",
              "          + ' to learn more about interactive tables.';\n",
              "        element.innerHTML = '';\n",
              "        dataTable['output_type'] = 'display_data';\n",
              "        await google.colab.output.renderOutput(dataTable, element);\n",
              "        const docLink = document.createElement('div');\n",
              "        docLink.innerHTML = docLinkHtml;\n",
              "        element.appendChild(docLink);\n",
              "      }\n",
              "    </script>\n",
              "  </div>\n",
              "\n",
              "\n",
              "<div id=\"df-81911a95-1d1d-4d5e-a8bb-62fe9f7564a4\">\n",
              "  <button class=\"colab-df-quickchart\" onclick=\"quickchart('df-81911a95-1d1d-4d5e-a8bb-62fe9f7564a4')\"\n",
              "            title=\"Suggest charts.\"\n",
              "            style=\"display:none;\">\n",
              "\n",
              "<svg xmlns=\"http://www.w3.org/2000/svg\" height=\"24px\"viewBox=\"0 0 24 24\"\n",
              "     width=\"24px\">\n",
              "    <g>\n",
              "        <path d=\"M19 3H5c-1.1 0-2 .9-2 2v14c0 1.1.9 2 2 2h14c1.1 0 2-.9 2-2V5c0-1.1-.9-2-2-2zM9 17H7v-7h2v7zm4 0h-2V7h2v10zm4 0h-2v-4h2v4z\"/>\n",
              "    </g>\n",
              "</svg>\n",
              "  </button>\n",
              "\n",
              "<style>\n",
              "  .colab-df-quickchart {\n",
              "      --bg-color: #E8F0FE;\n",
              "      --fill-color: #1967D2;\n",
              "      --hover-bg-color: #E2EBFA;\n",
              "      --hover-fill-color: #174EA6;\n",
              "      --disabled-fill-color: #AAA;\n",
              "      --disabled-bg-color: #DDD;\n",
              "  }\n",
              "\n",
              "  [theme=dark] .colab-df-quickchart {\n",
              "      --bg-color: #3B4455;\n",
              "      --fill-color: #D2E3FC;\n",
              "      --hover-bg-color: #434B5C;\n",
              "      --hover-fill-color: #FFFFFF;\n",
              "      --disabled-bg-color: #3B4455;\n",
              "      --disabled-fill-color: #666;\n",
              "  }\n",
              "\n",
              "  .colab-df-quickchart {\n",
              "    background-color: var(--bg-color);\n",
              "    border: none;\n",
              "    border-radius: 50%;\n",
              "    cursor: pointer;\n",
              "    display: none;\n",
              "    fill: var(--fill-color);\n",
              "    height: 32px;\n",
              "    padding: 0;\n",
              "    width: 32px;\n",
              "  }\n",
              "\n",
              "  .colab-df-quickchart:hover {\n",
              "    background-color: var(--hover-bg-color);\n",
              "    box-shadow: 0 1px 2px rgba(60, 64, 67, 0.3), 0 1px 3px 1px rgba(60, 64, 67, 0.15);\n",
              "    fill: var(--button-hover-fill-color);\n",
              "  }\n",
              "\n",
              "  .colab-df-quickchart-complete:disabled,\n",
              "  .colab-df-quickchart-complete:disabled:hover {\n",
              "    background-color: var(--disabled-bg-color);\n",
              "    fill: var(--disabled-fill-color);\n",
              "    box-shadow: none;\n",
              "  }\n",
              "\n",
              "  .colab-df-spinner {\n",
              "    border: 2px solid var(--fill-color);\n",
              "    border-color: transparent;\n",
              "    border-bottom-color: var(--fill-color);\n",
              "    animation:\n",
              "      spin 1s steps(1) infinite;\n",
              "  }\n",
              "\n",
              "  @keyframes spin {\n",
              "    0% {\n",
              "      border-color: transparent;\n",
              "      border-bottom-color: var(--fill-color);\n",
              "      border-left-color: var(--fill-color);\n",
              "    }\n",
              "    20% {\n",
              "      border-color: transparent;\n",
              "      border-left-color: var(--fill-color);\n",
              "      border-top-color: var(--fill-color);\n",
              "    }\n",
              "    30% {\n",
              "      border-color: transparent;\n",
              "      border-left-color: var(--fill-color);\n",
              "      border-top-color: var(--fill-color);\n",
              "      border-right-color: var(--fill-color);\n",
              "    }\n",
              "    40% {\n",
              "      border-color: transparent;\n",
              "      border-right-color: var(--fill-color);\n",
              "      border-top-color: var(--fill-color);\n",
              "    }\n",
              "    60% {\n",
              "      border-color: transparent;\n",
              "      border-right-color: var(--fill-color);\n",
              "    }\n",
              "    80% {\n",
              "      border-color: transparent;\n",
              "      border-right-color: var(--fill-color);\n",
              "      border-bottom-color: var(--fill-color);\n",
              "    }\n",
              "    90% {\n",
              "      border-color: transparent;\n",
              "      border-bottom-color: var(--fill-color);\n",
              "    }\n",
              "  }\n",
              "</style>\n",
              "\n",
              "  <script>\n",
              "    async function quickchart(key) {\n",
              "      const quickchartButtonEl =\n",
              "        document.querySelector('#' + key + ' button');\n",
              "      quickchartButtonEl.disabled = true;  // To prevent multiple clicks.\n",
              "      quickchartButtonEl.classList.add('colab-df-spinner');\n",
              "      try {\n",
              "        const charts = await google.colab.kernel.invokeFunction(\n",
              "            'suggestCharts', [key], {});\n",
              "      } catch (error) {\n",
              "        console.error('Error during call to suggestCharts:', error);\n",
              "      }\n",
              "      quickchartButtonEl.classList.remove('colab-df-spinner');\n",
              "      quickchartButtonEl.classList.add('colab-df-quickchart-complete');\n",
              "    }\n",
              "    (() => {\n",
              "      let quickchartButtonEl =\n",
              "        document.querySelector('#df-81911a95-1d1d-4d5e-a8bb-62fe9f7564a4 button');\n",
              "      quickchartButtonEl.style.display =\n",
              "        google.colab.kernel.accessAllowed ? 'block' : 'none';\n",
              "    })();\n",
              "  </script>\n",
              "</div>\n",
              "    </div>\n",
              "  </div>\n"
            ]
          },
          "metadata": {},
          "execution_count": 33
        }
      ]
    },
    {
      "cell_type": "code",
      "source": [
        "cm = confusion_matrix(y_test, y_pred)\n",
        "plt.figure(figsize = (12, 10))\n",
        "cm = pd.DataFrame(cm , index = [i for i in encoder.categories_] , columns = [i for i in encoder.categories_])\n",
        "sns.heatmap(cm, linecolor='white', cmap='Blues', linewidth=1, annot=True, fmt='')\n",
        "plt.title('Confusion Matrix', size=20)\n",
        "plt.xlabel('Predicted Labels', size=14)\n",
        "plt.ylabel('Actual Labels', size=14)\n",
        "plt.show()"
      ],
      "metadata": {
        "colab": {
          "base_uri": "https://localhost:8080/",
          "height": 885
        },
        "id": "NnfCbO9Ucn8O",
        "outputId": "c53e726b-a57f-4816-9f35-fc42bf7aa2ee"
      },
      "execution_count": null,
      "outputs": [
        {
          "output_type": "display_data",
          "data": {
            "text/plain": [
              "<Figure size 1200x1000 with 2 Axes>"
            ],
            "image/png": "[encoded data removed]"
          },
          "metadata": {}
        }
      ]
    },
    {
      "cell_type": "code",
      "source": [
        "print(classification_report(y_test, y_pred))"
      ],
      "metadata": {
        "colab": {
          "base_uri": "https://localhost:8080/"
        },
        "id": "I-uzHNyLcn50",
        "outputId": "7d7c4305-151f-4e07-a90e-db3461584cd1"
      },
      "execution_count": null,
      "outputs": [
        {
          "output_type": "stream",
          "name": "stdout",
          "text": [
            "              precision    recall  f1-score   support\n",
            "\n",
            "       angry       0.90      0.82      0.86      1509\n",
            "     disgust       0.80      0.75      0.77      1482\n",
            "        fear       0.81      0.77      0.79      1539\n",
            "       happy       0.84      0.79      0.81      1545\n",
            "     neutral       0.82      0.89      0.86      1532\n",
            "         sad       0.74      0.85      0.79      1597\n",
            "    surprise       0.89      0.95      0.92       526\n",
            "\n",
            "    accuracy                           0.82      9730\n",
            "   macro avg       0.83      0.83      0.83      9730\n",
            "weighted avg       0.82      0.82      0.82      9730\n",
            "\n"
          ]
        }
      ]
    },
    {
      "cell_type": "markdown",
      "source": [
        "# Saving model"
      ],
      "metadata": {
        "id": "T8AwqXNDRSVD"
      }
    },
    {
      "cell_type": "code",
      "source": [
        "model.save(os.path.join('models','Speech_signal_features_V1_CNN+GRU.h5'))"
      ],
      "metadata": {
        "colab": {
          "base_uri": "https://localhost:8080/"
        },
        "id": "rTZhrBSfRVQd",
        "outputId": "9365d9e4-080a-49a1-fe55-3c7e53607bb3"
      },
      "execution_count": null,
      "outputs": [
        {
          "output_type": "stream",
          "name": "stderr",
          "text": [
            "/usr/local/lib/python3.10/dist-packages/keras/src/engine/training.py:3000: UserWarning: You are saving your model as an HDF5 file via `model.save()`. This file format is considered legacy. We recommend using instead the native Keras format, e.g. `model.save('my_model.keras')`.\n",
            "  saving_api.save_model(\n"
          ]
        }
      ]
    },
    {
      "cell_type": "code",
      "source": [],
      "metadata": {
        "id": "Wa9wPE9gn6LM"
      },
      "execution_count": null,
      "outputs": []
    }
  ]
}