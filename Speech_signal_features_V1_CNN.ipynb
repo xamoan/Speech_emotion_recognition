{
  "nbformat": 4,
  "nbformat_minor": 0,
  "metadata": {
    "colab": {
      "provenance": [],
      "collapsed_sections": [
        "4jggr0VLZwEW"
      ],
      "gpuType": "T4"
    },
    "kernelspec": {
      "name": "python3",
      "display_name": "Python 3"
    },
    "language_info": {
      "name": "python"
    },
    "accelerator": "GPU"
  },
  "cells": [
    {
      "cell_type": "code",
      "execution_count": null,
      "metadata": {
        "colab": {
          "base_uri": "https://localhost:8080/"
        },
        "id": "Jjnn7UIxZC-P",
        "outputId": "9fb644b9-7d47-4497-9223-bf3b63e594f9"
      },
      "outputs": [
        {
          "output_type": "stream",
          "name": "stdout",
          "text": [
            "Mounted at /content/drive\n"
          ]
        }
      ],
      "source": [
        "from google.colab import drive\n",
        "drive.mount('/content/drive')"
      ]
    },
    {
      "cell_type": "markdown",
      "source": [
        "# Librerie"
      ],
      "metadata": {
        "id": "4jggr0VLZwEW"
      }
    },
    {
      "cell_type": "code",
      "source": [
        "import pandas as pd\n",
        "from tqdm import tqdm\n",
        "import numpy as np\n",
        "import os\n",
        "import librosa\n",
        "import IPython.display as ipd\n",
        "import matplotlib.pyplot as plt\n",
        "import seaborn as sns\n",
        "import librosa\n",
        "\n",
        "from sklearn.preprocessing import  OneHotEncoder, StandardScaler\n",
        "from keras.utils import to_categorical\n",
        "from sklearn.model_selection import train_test_split\n",
        "from keras.callbacks import ReduceLROnPlateau\n",
        "from sklearn.metrics import confusion_matrix, classification_report\n",
        "from keras.models import Sequential, Model\n",
        "from keras.layers import Dense, Input, Conv2D, MaxPool2D, Dropout, Flatten, Conv1D, MaxPool1D, BatchNormalization\n",
        "import tensorflow"
      ],
      "metadata": {
        "id": "xwczU6SJZiyH"
      },
      "execution_count": 1,
      "outputs": []
    },
    {
      "cell_type": "markdown",
      "source": [
        "# Preparazione dei dati"
      ],
      "metadata": {
        "id": "8Ey5NLeJaE6y"
      }
    },
    {
      "cell_type": "markdown",
      "source": [
        "Importazione del dataset \"speech_signal_features_V1s\". Questo dataset contiene le features estratte dai seguenti dataset: Ravdess, SAVEE, TESS, CREMA-D. Le features in questione sono:\n",
        "- Zero crossing rate\n",
        "- Root mean square error\n",
        "- MFFCs\n"
      ],
      "metadata": {
        "id": "h9XnEzSyajXJ"
      }
    },
    {
      "cell_type": "code",
      "source": [
        "Features_df = pd.read_csv('/content/drive/MyDrive/speech_signal_features_V1.csv')\n",
        "Features_df"
      ],
      "metadata": {
        "colab": {
          "base_uri": "https://localhost:8080/",
          "height": 443
        },
        "id": "lhBGMjgYaIHp",
        "outputId": "63f68132-8947-4939-bafa-633ec0cf4090"
      },
      "execution_count": null,
      "outputs": [
        {
          "output_type": "execute_result",
          "data": {
            "text/plain": [
              "              0         1         2         3         4         5         6  \\\n",
              "0      0.331543  0.471680  0.564941  0.452148  0.374512  0.296875  0.265137   \n",
              "1      0.251953  0.373535  0.494141  0.501465  0.482910  0.482422  0.476562   \n",
              "2      0.299805  0.419922  0.525879  0.459473  0.378418  0.326172  0.282227   \n",
              "3      0.261719  0.388672  0.513184  0.509277  0.500977  0.496582  0.486816   \n",
              "4      0.400879  0.591309  0.783203  0.777832  0.771973  0.777832  0.771973   \n",
              "...         ...       ...       ...       ...       ...       ...       ...   \n",
              "48643  0.026855  0.044434  0.062012  0.060547  0.064453  0.059570  0.074219   \n",
              "48644  0.023926  0.035156  0.040527  0.035645  0.032715  0.029297  0.032715   \n",
              "48645  0.025879  0.053711  0.087402  0.104004  0.103027  0.083008  0.062012   \n",
              "48646  0.022461  0.034668  0.041992  0.038086  0.038086  0.034668  0.036133   \n",
              "48647  0.022461  0.034668  0.041992  0.038086  0.038086  0.034668  0.036133   \n",
              "\n",
              "              7         8         9  ...      2367      2368      2369  \\\n",
              "0      0.256348  0.252441  0.251953  ... -1.517647 -1.716411 -1.599245   \n",
              "1      0.463379  0.469238  0.466309  ... -1.614816 -3.268710 -2.181269   \n",
              "2      0.260254  0.258789  0.253906  ...  0.518934  0.839123  1.308966   \n",
              "3      0.487793  0.479980  0.491699  ... -1.774671 -1.750296  1.640066   \n",
              "4      0.775391  0.758789  0.580078  ...  2.585885  2.746578  2.223155   \n",
              "...         ...       ...       ...  ...       ...       ...       ...   \n",
              "48643  0.113281  0.133301  0.141113  ... -2.997387 -2.857280 -0.232463   \n",
              "48644  0.048340  0.125488  0.214844  ... -5.741305 -4.147367 -7.531296   \n",
              "48645  0.067383  0.142090  0.231445  ... -5.524943 -8.097495 -2.270405   \n",
              "48646  0.044434  0.117676  0.207031  ... -4.208822  3.741516 -2.212307   \n",
              "48647  0.044434  0.115723  0.202148  ... -5.233647  2.385797 -0.603511   \n",
              "\n",
              "           2370      2371       2372      2373      2374      2375  Emotions  \n",
              "0     -1.234544 -0.693115  -0.038821  0.675410  1.405862  2.112551  surprise  \n",
              "1     -4.098365 -5.258773  -5.286760 -6.192348 -1.996428  2.875362  surprise  \n",
              "2      1.855113  2.404974   2.896071  3.282975  3.541090  3.666844  surprise  \n",
              "3      1.664761  0.510230   1.624107  0.165312 -0.924339 -2.566185  surprise  \n",
              "4      0.986784 -0.730885  -2.531058 -4.002847 -4.849191 -4.929410   neutral  \n",
              "...         ...       ...        ...       ...       ...       ...       ...  \n",
              "48643 -1.449387  3.244326   3.075974  5.609814  8.831363 -1.798762     angry  \n",
              "48644 -3.492054 -2.512286 -11.724421 -7.290385  1.041336  1.246793     happy  \n",
              "48645 -1.362404 -6.644628  -5.624853 -5.777763 -5.503017 -2.788878     happy  \n",
              "48646  1.554494 -3.257353 -17.360359 -1.698290  6.971038 -4.712044     happy  \n",
              "48647  0.293539 -3.992488 -14.444147 -2.231435  5.424299 -4.705208     happy  \n",
              "\n",
              "[48648 rows x 2377 columns]"
            ],
            "text/html": [
              "\n",
              "  <div id=\"df-421e0a45-cd06-40f4-8801-18fdc9020fa2\" class=\"colab-df-container\">\n",
              "    <div>\n",
              "<style scoped>\n",
              "    .dataframe tbody tr th:only-of-type {\n",
              "        vertical-align: middle;\n",
              "    }\n",
              "\n",
              "    .dataframe tbody tr th {\n",
              "        vertical-align: top;\n",
              "    }\n",
              "\n",
              "    .dataframe thead th {\n",
              "        text-align: right;\n",
              "    }\n",
              "</style>\n",
              "<table border=\"1\" class=\"dataframe\">\n",
              "  <thead>\n",
              "    <tr style=\"text-align: right;\">\n",
              "      <th></th>\n",
              "      <th>0</th>\n",
              "      <th>1</th>\n",
              "      <th>2</th>\n",
              "      <th>3</th>\n",
              "      <th>4</th>\n",
              "      <th>5</th>\n",
              "      <th>6</th>\n",
              "      <th>7</th>\n",
              "      <th>8</th>\n",
              "      <th>9</th>\n",
              "      <th>...</th>\n",
              "      <th>2367</th>\n",
              "      <th>2368</th>\n",
              "      <th>2369</th>\n",
              "      <th>2370</th>\n",
              "      <th>2371</th>\n",
              "      <th>2372</th>\n",
              "      <th>2373</th>\n",
              "      <th>2374</th>\n",
              "      <th>2375</th>\n",
              "      <th>Emotions</th>\n",
              "    </tr>\n",
              "  </thead>\n",
              "  <tbody>\n",
              "    <tr>\n",
              "      <th>0</th>\n",
              "      <td>0.331543</td>\n",
              "      <td>0.471680</td>\n",
              "      <td>0.564941</td>\n",
              "      <td>0.452148</td>\n",
              "      <td>0.374512</td>\n",
              "      <td>0.296875</td>\n",
              "      <td>0.265137</td>\n",
              "      <td>0.256348</td>\n",
              "      <td>0.252441</td>\n",
              "      <td>0.251953</td>\n",
              "      <td>...</td>\n",
              "      <td>-1.517647</td>\n",
              "      <td>-1.716411</td>\n",
              "      <td>-1.599245</td>\n",
              "      <td>-1.234544</td>\n",
              "      <td>-0.693115</td>\n",
              "      <td>-0.038821</td>\n",
              "      <td>0.675410</td>\n",
              "      <td>1.405862</td>\n",
              "      <td>2.112551</td>\n",
              "      <td>surprise</td>\n",
              "    </tr>\n",
              "    <tr>\n",
              "      <th>1</th>\n",
              "      <td>0.251953</td>\n",
              "      <td>0.373535</td>\n",
              "      <td>0.494141</td>\n",
              "      <td>0.501465</td>\n",
              "      <td>0.482910</td>\n",
              "      <td>0.482422</td>\n",
              "      <td>0.476562</td>\n",
              "      <td>0.463379</td>\n",
              "      <td>0.469238</td>\n",
              "      <td>0.466309</td>\n",
              "      <td>...</td>\n",
              "      <td>-1.614816</td>\n",
              "      <td>-3.268710</td>\n",
              "      <td>-2.181269</td>\n",
              "      <td>-4.098365</td>\n",
              "      <td>-5.258773</td>\n",
              "      <td>-5.286760</td>\n",
              "      <td>-6.192348</td>\n",
              "      <td>-1.996428</td>\n",
              "      <td>2.875362</td>\n",
              "      <td>surprise</td>\n",
              "    </tr>\n",
              "    <tr>\n",
              "      <th>2</th>\n",
              "      <td>0.299805</td>\n",
              "      <td>0.419922</td>\n",
              "      <td>0.525879</td>\n",
              "      <td>0.459473</td>\n",
              "      <td>0.378418</td>\n",
              "      <td>0.326172</td>\n",
              "      <td>0.282227</td>\n",
              "      <td>0.260254</td>\n",
              "      <td>0.258789</td>\n",
              "      <td>0.253906</td>\n",
              "      <td>...</td>\n",
              "      <td>0.518934</td>\n",
              "      <td>0.839123</td>\n",
              "      <td>1.308966</td>\n",
              "      <td>1.855113</td>\n",
              "      <td>2.404974</td>\n",
              "      <td>2.896071</td>\n",
              "      <td>3.282975</td>\n",
              "      <td>3.541090</td>\n",
              "      <td>3.666844</td>\n",
              "      <td>surprise</td>\n",
              "    </tr>\n",
              "    <tr>\n",
              "      <th>3</th>\n",
              "      <td>0.261719</td>\n",
              "      <td>0.388672</td>\n",
              "      <td>0.513184</td>\n",
              "      <td>0.509277</td>\n",
              "      <td>0.500977</td>\n",
              "      <td>0.496582</td>\n",
              "      <td>0.486816</td>\n",
              "      <td>0.487793</td>\n",
              "      <td>0.479980</td>\n",
              "      <td>0.491699</td>\n",
              "      <td>...</td>\n",
              "      <td>-1.774671</td>\n",
              "      <td>-1.750296</td>\n",
              "      <td>1.640066</td>\n",
              "      <td>1.664761</td>\n",
              "      <td>0.510230</td>\n",
              "      <td>1.624107</td>\n",
              "      <td>0.165312</td>\n",
              "      <td>-0.924339</td>\n",
              "      <td>-2.566185</td>\n",
              "      <td>surprise</td>\n",
              "    </tr>\n",
              "    <tr>\n",
              "      <th>4</th>\n",
              "      <td>0.400879</td>\n",
              "      <td>0.591309</td>\n",
              "      <td>0.783203</td>\n",
              "      <td>0.777832</td>\n",
              "      <td>0.771973</td>\n",
              "      <td>0.777832</td>\n",
              "      <td>0.771973</td>\n",
              "      <td>0.775391</td>\n",
              "      <td>0.758789</td>\n",
              "      <td>0.580078</td>\n",
              "      <td>...</td>\n",
              "      <td>2.585885</td>\n",
              "      <td>2.746578</td>\n",
              "      <td>2.223155</td>\n",
              "      <td>0.986784</td>\n",
              "      <td>-0.730885</td>\n",
              "      <td>-2.531058</td>\n",
              "      <td>-4.002847</td>\n",
              "      <td>-4.849191</td>\n",
              "      <td>-4.929410</td>\n",
              "      <td>neutral</td>\n",
              "    </tr>\n",
              "    <tr>\n",
              "      <th>...</th>\n",
              "      <td>...</td>\n",
              "      <td>...</td>\n",
              "      <td>...</td>\n",
              "      <td>...</td>\n",
              "      <td>...</td>\n",
              "      <td>...</td>\n",
              "      <td>...</td>\n",
              "      <td>...</td>\n",
              "      <td>...</td>\n",
              "      <td>...</td>\n",
              "      <td>...</td>\n",
              "      <td>...</td>\n",
              "      <td>...</td>\n",
              "      <td>...</td>\n",
              "      <td>...</td>\n",
              "      <td>...</td>\n",
              "      <td>...</td>\n",
              "      <td>...</td>\n",
              "      <td>...</td>\n",
              "      <td>...</td>\n",
              "      <td>...</td>\n",
              "    </tr>\n",
              "    <tr>\n",
              "      <th>48643</th>\n",
              "      <td>0.026855</td>\n",
              "      <td>0.044434</td>\n",
              "      <td>0.062012</td>\n",
              "      <td>0.060547</td>\n",
              "      <td>0.064453</td>\n",
              "      <td>0.059570</td>\n",
              "      <td>0.074219</td>\n",
              "      <td>0.113281</td>\n",
              "      <td>0.133301</td>\n",
              "      <td>0.141113</td>\n",
              "      <td>...</td>\n",
              "      <td>-2.997387</td>\n",
              "      <td>-2.857280</td>\n",
              "      <td>-0.232463</td>\n",
              "      <td>-1.449387</td>\n",
              "      <td>3.244326</td>\n",
              "      <td>3.075974</td>\n",
              "      <td>5.609814</td>\n",
              "      <td>8.831363</td>\n",
              "      <td>-1.798762</td>\n",
              "      <td>angry</td>\n",
              "    </tr>\n",
              "    <tr>\n",
              "      <th>48644</th>\n",
              "      <td>0.023926</td>\n",
              "      <td>0.035156</td>\n",
              "      <td>0.040527</td>\n",
              "      <td>0.035645</td>\n",
              "      <td>0.032715</td>\n",
              "      <td>0.029297</td>\n",
              "      <td>0.032715</td>\n",
              "      <td>0.048340</td>\n",
              "      <td>0.125488</td>\n",
              "      <td>0.214844</td>\n",
              "      <td>...</td>\n",
              "      <td>-5.741305</td>\n",
              "      <td>-4.147367</td>\n",
              "      <td>-7.531296</td>\n",
              "      <td>-3.492054</td>\n",
              "      <td>-2.512286</td>\n",
              "      <td>-11.724421</td>\n",
              "      <td>-7.290385</td>\n",
              "      <td>1.041336</td>\n",
              "      <td>1.246793</td>\n",
              "      <td>happy</td>\n",
              "    </tr>\n",
              "    <tr>\n",
              "      <th>48645</th>\n",
              "      <td>0.025879</td>\n",
              "      <td>0.053711</td>\n",
              "      <td>0.087402</td>\n",
              "      <td>0.104004</td>\n",
              "      <td>0.103027</td>\n",
              "      <td>0.083008</td>\n",
              "      <td>0.062012</td>\n",
              "      <td>0.067383</td>\n",
              "      <td>0.142090</td>\n",
              "      <td>0.231445</td>\n",
              "      <td>...</td>\n",
              "      <td>-5.524943</td>\n",
              "      <td>-8.097495</td>\n",
              "      <td>-2.270405</td>\n",
              "      <td>-1.362404</td>\n",
              "      <td>-6.644628</td>\n",
              "      <td>-5.624853</td>\n",
              "      <td>-5.777763</td>\n",
              "      <td>-5.503017</td>\n",
              "      <td>-2.788878</td>\n",
              "      <td>happy</td>\n",
              "    </tr>\n",
              "    <tr>\n",
              "      <th>48646</th>\n",
              "      <td>0.022461</td>\n",
              "      <td>0.034668</td>\n",
              "      <td>0.041992</td>\n",
              "      <td>0.038086</td>\n",
              "      <td>0.038086</td>\n",
              "      <td>0.034668</td>\n",
              "      <td>0.036133</td>\n",
              "      <td>0.044434</td>\n",
              "      <td>0.117676</td>\n",
              "      <td>0.207031</td>\n",
              "      <td>...</td>\n",
              "      <td>-4.208822</td>\n",
              "      <td>3.741516</td>\n",
              "      <td>-2.212307</td>\n",
              "      <td>1.554494</td>\n",
              "      <td>-3.257353</td>\n",
              "      <td>-17.360359</td>\n",
              "      <td>-1.698290</td>\n",
              "      <td>6.971038</td>\n",
              "      <td>-4.712044</td>\n",
              "      <td>happy</td>\n",
              "    </tr>\n",
              "    <tr>\n",
              "      <th>48647</th>\n",
              "      <td>0.022461</td>\n",
              "      <td>0.034668</td>\n",
              "      <td>0.041992</td>\n",
              "      <td>0.038086</td>\n",
              "      <td>0.038086</td>\n",
              "      <td>0.034668</td>\n",
              "      <td>0.036133</td>\n",
              "      <td>0.044434</td>\n",
              "      <td>0.115723</td>\n",
              "      <td>0.202148</td>\n",
              "      <td>...</td>\n",
              "      <td>-5.233647</td>\n",
              "      <td>2.385797</td>\n",
              "      <td>-0.603511</td>\n",
              "      <td>0.293539</td>\n",
              "      <td>-3.992488</td>\n",
              "      <td>-14.444147</td>\n",
              "      <td>-2.231435</td>\n",
              "      <td>5.424299</td>\n",
              "      <td>-4.705208</td>\n",
              "      <td>happy</td>\n",
              "    </tr>\n",
              "  </tbody>\n",
              "</table>\n",
              "<p>48648 rows × 2377 columns</p>\n",
              "</div>\n",
              "    <div class=\"colab-df-buttons\">\n",
              "\n",
              "  <div class=\"colab-df-container\">\n",
              "    <button class=\"colab-df-convert\" onclick=\"convertToInteractive('df-421e0a45-cd06-40f4-8801-18fdc9020fa2')\"\n",
              "            title=\"Convert this dataframe to an interactive table.\"\n",
              "            style=\"display:none;\">\n",
              "\n",
              "  <svg xmlns=\"http://www.w3.org/2000/svg\" height=\"24px\" viewBox=\"0 -960 960 960\">\n",
              "    <path d=\"M120-120v-720h720v720H120Zm60-500h600v-160H180v160Zm220 220h160v-160H400v160Zm0 220h160v-160H400v160ZM180-400h160v-160H180v160Zm440 0h160v-160H620v160ZM180-180h160v-160H180v160Zm440 0h160v-160H620v160Z\"/>\n",
              "  </svg>\n",
              "    </button>\n",
              "\n",
              "  <style>\n",
              "    .colab-df-container {\n",
              "      display:flex;\n",
              "      gap: 12px;\n",
              "    }\n",
              "\n",
              "    .colab-df-convert {\n",
              "      background-color: #E8F0FE;\n",
              "      border: none;\n",
              "      border-radius: 50%;\n",
              "      cursor: pointer;\n",
              "      display: none;\n",
              "      fill: #1967D2;\n",
              "      height: 32px;\n",
              "      padding: 0 0 0 0;\n",
              "      width: 32px;\n",
              "    }\n",
              "\n",
              "    .colab-df-convert:hover {\n",
              "      background-color: #E2EBFA;\n",
              "      box-shadow: 0px 1px 2px rgba(60, 64, 67, 0.3), 0px 1px 3px 1px rgba(60, 64, 67, 0.15);\n",
              "      fill: #174EA6;\n",
              "    }\n",
              "\n",
              "    .colab-df-buttons div {\n",
              "      margin-bottom: 4px;\n",
              "    }\n",
              "\n",
              "    [theme=dark] .colab-df-convert {\n",
              "      background-color: #3B4455;\n",
              "      fill: #D2E3FC;\n",
              "    }\n",
              "\n",
              "    [theme=dark] .colab-df-convert:hover {\n",
              "      background-color: #434B5C;\n",
              "      box-shadow: 0px 1px 3px 1px rgba(0, 0, 0, 0.15);\n",
              "      filter: drop-shadow(0px 1px 2px rgba(0, 0, 0, 0.3));\n",
              "      fill: #FFFFFF;\n",
              "    }\n",
              "  </style>\n",
              "\n",
              "    <script>\n",
              "      const buttonEl =\n",
              "        document.querySelector('#df-421e0a45-cd06-40f4-8801-18fdc9020fa2 button.colab-df-convert');\n",
              "      buttonEl.style.display =\n",
              "        google.colab.kernel.accessAllowed ? 'block' : 'none';\n",
              "\n",
              "      async function convertToInteractive(key) {\n",
              "        const element = document.querySelector('#df-421e0a45-cd06-40f4-8801-18fdc9020fa2');\n",
              "        const dataTable =\n",
              "          await google.colab.kernel.invokeFunction('convertToInteractive',\n",
              "                                                    [key], {});\n",
              "        if (!dataTable) return;\n",
              "\n",
              "        const docLinkHtml = 'Like what you see? Visit the ' +\n",
              "          '<a target=\"_blank\" href=https://colab.research.google.com/notebooks/data_table.ipynb>data table notebook</a>'\n",
              "          + ' to learn more about interactive tables.';\n",
              "        element.innerHTML = '';\n",
              "        dataTable['output_type'] = 'display_data';\n",
              "        await google.colab.output.renderOutput(dataTable, element);\n",
              "        const docLink = document.createElement('div');\n",
              "        docLink.innerHTML = docLinkHtml;\n",
              "        element.appendChild(docLink);\n",
              "      }\n",
              "    </script>\n",
              "  </div>\n",
              "\n",
              "\n",
              "<div id=\"df-0fd3d603-88ee-4f1d-843a-c94f8baf1318\">\n",
              "  <button class=\"colab-df-quickchart\" onclick=\"quickchart('df-0fd3d603-88ee-4f1d-843a-c94f8baf1318')\"\n",
              "            title=\"Suggest charts.\"\n",
              "            style=\"display:none;\">\n",
              "\n",
              "<svg xmlns=\"http://www.w3.org/2000/svg\" height=\"24px\"viewBox=\"0 0 24 24\"\n",
              "     width=\"24px\">\n",
              "    <g>\n",
              "        <path d=\"M19 3H5c-1.1 0-2 .9-2 2v14c0 1.1.9 2 2 2h14c1.1 0 2-.9 2-2V5c0-1.1-.9-2-2-2zM9 17H7v-7h2v7zm4 0h-2V7h2v10zm4 0h-2v-4h2v4z\"/>\n",
              "    </g>\n",
              "</svg>\n",
              "  </button>\n",
              "\n",
              "<style>\n",
              "  .colab-df-quickchart {\n",
              "      --bg-color: #E8F0FE;\n",
              "      --fill-color: #1967D2;\n",
              "      --hover-bg-color: #E2EBFA;\n",
              "      --hover-fill-color: #174EA6;\n",
              "      --disabled-fill-color: #AAA;\n",
              "      --disabled-bg-color: #DDD;\n",
              "  }\n",
              "\n",
              "  [theme=dark] .colab-df-quickchart {\n",
              "      --bg-color: #3B4455;\n",
              "      --fill-color: #D2E3FC;\n",
              "      --hover-bg-color: #434B5C;\n",
              "      --hover-fill-color: #FFFFFF;\n",
              "      --disabled-bg-color: #3B4455;\n",
              "      --disabled-fill-color: #666;\n",
              "  }\n",
              "\n",
              "  .colab-df-quickchart {\n",
              "    background-color: var(--bg-color);\n",
              "    border: none;\n",
              "    border-radius: 50%;\n",
              "    cursor: pointer;\n",
              "    display: none;\n",
              "    fill: var(--fill-color);\n",
              "    height: 32px;\n",
              "    padding: 0;\n",
              "    width: 32px;\n",
              "  }\n",
              "\n",
              "  .colab-df-quickchart:hover {\n",
              "    background-color: var(--hover-bg-color);\n",
              "    box-shadow: 0 1px 2px rgba(60, 64, 67, 0.3), 0 1px 3px 1px rgba(60, 64, 67, 0.15);\n",
              "    fill: var(--button-hover-fill-color);\n",
              "  }\n",
              "\n",
              "  .colab-df-quickchart-complete:disabled,\n",
              "  .colab-df-quickchart-complete:disabled:hover {\n",
              "    background-color: var(--disabled-bg-color);\n",
              "    fill: var(--disabled-fill-color);\n",
              "    box-shadow: none;\n",
              "  }\n",
              "\n",
              "  .colab-df-spinner {\n",
              "    border: 2px solid var(--fill-color);\n",
              "    border-color: transparent;\n",
              "    border-bottom-color: var(--fill-color);\n",
              "    animation:\n",
              "      spin 1s steps(1) infinite;\n",
              "  }\n",
              "\n",
              "  @keyframes spin {\n",
              "    0% {\n",
              "      border-color: transparent;\n",
              "      border-bottom-color: var(--fill-color);\n",
              "      border-left-color: var(--fill-color);\n",
              "    }\n",
              "    20% {\n",
              "      border-color: transparent;\n",
              "      border-left-color: var(--fill-color);\n",
              "      border-top-color: var(--fill-color);\n",
              "    }\n",
              "    30% {\n",
              "      border-color: transparent;\n",
              "      border-left-color: var(--fill-color);\n",
              "      border-top-color: var(--fill-color);\n",
              "      border-right-color: var(--fill-color);\n",
              "    }\n",
              "    40% {\n",
              "      border-color: transparent;\n",
              "      border-right-color: var(--fill-color);\n",
              "      border-top-color: var(--fill-color);\n",
              "    }\n",
              "    60% {\n",
              "      border-color: transparent;\n",
              "      border-right-color: var(--fill-color);\n",
              "    }\n",
              "    80% {\n",
              "      border-color: transparent;\n",
              "      border-right-color: var(--fill-color);\n",
              "      border-bottom-color: var(--fill-color);\n",
              "    }\n",
              "    90% {\n",
              "      border-color: transparent;\n",
              "      border-bottom-color: var(--fill-color);\n",
              "    }\n",
              "  }\n",
              "</style>\n",
              "\n",
              "  <script>\n",
              "    async function quickchart(key) {\n",
              "      const quickchartButtonEl =\n",
              "        document.querySelector('#' + key + ' button');\n",
              "      quickchartButtonEl.disabled = true;  // To prevent multiple clicks.\n",
              "      quickchartButtonEl.classList.add('colab-df-spinner');\n",
              "      try {\n",
              "        const charts = await google.colab.kernel.invokeFunction(\n",
              "            'suggestCharts', [key], {});\n",
              "      } catch (error) {\n",
              "        console.error('Error during call to suggestCharts:', error);\n",
              "      }\n",
              "      quickchartButtonEl.classList.remove('colab-df-spinner');\n",
              "      quickchartButtonEl.classList.add('colab-df-quickchart-complete');\n",
              "    }\n",
              "    (() => {\n",
              "      let quickchartButtonEl =\n",
              "        document.querySelector('#df-0fd3d603-88ee-4f1d-843a-c94f8baf1318 button');\n",
              "      quickchartButtonEl.style.display =\n",
              "        google.colab.kernel.accessAllowed ? 'block' : 'none';\n",
              "    })();\n",
              "  </script>\n",
              "</div>\n",
              "    </div>\n",
              "  </div>\n"
            ]
          },
          "metadata": {},
          "execution_count": 4
        }
      ]
    },
    {
      "cell_type": "markdown",
      "source": [
        "Di seguito è riportato il controllo relativo ai valori NaN all'interno del dataset. Nel caso fossero presenti sono sostituiti con valori nulli"
      ],
      "metadata": {
        "id": "dtZI8sZaarsW"
      }
    },
    {
      "cell_type": "code",
      "source": [
        "Features_df.isna().values.any()"
      ],
      "metadata": {
        "colab": {
          "base_uri": "https://localhost:8080/"
        },
        "id": "UGKR3joCaPIs",
        "outputId": "112df3bb-f671-48f6-a31c-928313242132"
      },
      "execution_count": null,
      "outputs": [
        {
          "output_type": "execute_result",
          "data": {
            "text/plain": [
              "True"
            ]
          },
          "metadata": {},
          "execution_count": 5
        }
      ]
    },
    {
      "cell_type": "code",
      "source": [
        "Features_df=Features_df.fillna(0)\n",
        "np.sum(Features_df.isna())"
      ],
      "metadata": {
        "colab": {
          "base_uri": "https://localhost:8080/"
        },
        "id": "AtN2ejmaaPFD",
        "outputId": "bc09cc29-16bb-46ad-f6d6-3b884ce02104"
      },
      "execution_count": null,
      "outputs": [
        {
          "output_type": "execute_result",
          "data": {
            "text/plain": [
              "0           0\n",
              "1           0\n",
              "2           0\n",
              "3           0\n",
              "4           0\n",
              "           ..\n",
              "2372        0\n",
              "2373        0\n",
              "2374        0\n",
              "2375        0\n",
              "Emotions    0\n",
              "Length: 2377, dtype: int64"
            ]
          },
          "metadata": {},
          "execution_count": 6
        }
      ]
    },
    {
      "cell_type": "code",
      "source": [
        "Features_df.isna().values.any()"
      ],
      "metadata": {
        "colab": {
          "base_uri": "https://localhost:8080/"
        },
        "id": "gveHjEcoaPCd",
        "outputId": "e87239f7-55e2-4b7d-a217-4e1d2fb24bac"
      },
      "execution_count": null,
      "outputs": [
        {
          "output_type": "execute_result",
          "data": {
            "text/plain": [
              "False"
            ]
          },
          "metadata": {},
          "execution_count": 7
        }
      ]
    },
    {
      "cell_type": "markdown",
      "source": [
        "A questo punto vengono creati i set di training e di testing"
      ],
      "metadata": {
        "id": "O0jmRLfXbQ-L"
      }
    },
    {
      "cell_type": "code",
      "source": [
        "X = Features_df.iloc[: ,:-1].values\n",
        "Y = Features_df['Emotions'].values\n",
        "\n",
        "encoder = OneHotEncoder()\n",
        "Y = encoder.fit_transform(np.array(Y).reshape(-1,1)).toarray().astype(int)\n",
        "x_train, x_test, y_train, y_test = train_test_split(X, Y, test_size=0.2, random_state = 3)"
      ],
      "metadata": {
        "id": "5EWgoQ6LaPAE"
      },
      "execution_count": null,
      "outputs": []
    },
    {
      "cell_type": "code",
      "source": [
        "print(x_train.shape)\n",
        "print(y_train.shape)\n",
        "print(x_test.shape)\n",
        "print(y_test.shape)"
      ],
      "metadata": {
        "colab": {
          "base_uri": "https://localhost:8080/"
        },
        "id": "lyEtGTa-aO9j",
        "outputId": "41ae94bc-ae0b-40fb-a74a-b2c466744578"
      },
      "execution_count": null,
      "outputs": [
        {
          "output_type": "stream",
          "name": "stdout",
          "text": [
            "(38918, 2376)\n",
            "(38918, 7)\n",
            "(9730, 2376)\n",
            "(9730, 7)\n"
          ]
        }
      ]
    },
    {
      "cell_type": "code",
      "source": [
        "scaler = StandardScaler()\n",
        "x_train = scaler.fit_transform(x_train)\n",
        "x_test = scaler.transform(x_test)\n",
        "x_train.shape, y_train.shape, x_test.shape, y_test.shape\n"
      ],
      "metadata": {
        "colab": {
          "base_uri": "https://localhost:8080/"
        },
        "id": "W3Jfzq-gaO50",
        "outputId": "ca8907a3-7ee3-49c4-c4c4-1f275026fa6d"
      },
      "execution_count": null,
      "outputs": [
        {
          "output_type": "execute_result",
          "data": {
            "text/plain": [
              "((38918, 2376), (38918, 7), (9730, 2376), (9730, 7))"
            ]
          },
          "metadata": {},
          "execution_count": 10
        }
      ]
    },
    {
      "cell_type": "markdown",
      "source": [
        "Ai due set viene aggiunta una dimensione \"fittizzia\" per far si che ci sia una congruenza con l'input richiesto dalle reti convoluzionali 1D"
      ],
      "metadata": {
        "id": "O4C--XzPbldo"
      }
    },
    {
      "cell_type": "code",
      "source": [
        "x_train =np.expand_dims(x_train, axis=2)\n",
        "x_test= np.expand_dims(x_test, axis=2)\n",
        "x_train.shape, y_train.shape, x_test.shape, y_test.shape"
      ],
      "metadata": {
        "colab": {
          "base_uri": "https://localhost:8080/"
        },
        "id": "GtLbUwmaaO3c",
        "outputId": "256b894e-93a9-44b2-87da-2944109532ea"
      },
      "execution_count": null,
      "outputs": [
        {
          "output_type": "execute_result",
          "data": {
            "text/plain": [
              "((38918, 2376, 1), (38918, 7), (9730, 2376, 1), (9730, 7))"
            ]
          },
          "metadata": {},
          "execution_count": 11
        }
      ]
    },
    {
      "cell_type": "markdown",
      "source": [
        "#CNN's architecture"
      ],
      "metadata": {
        "id": "vdTlKPLVcFRt"
      }
    },
    {
      "cell_type": "code",
      "source": [
        "def cnn_block(num_filter, kernel_size):\n",
        "  model = Sequential()\n",
        "  model.add(Conv1D(num_filter, kernel_size, padding = \"same\",strides=1, activation = \"relu\"))\n",
        "  model.add(BatchNormalization())\n",
        "  model.add(MaxPool1D(pool_size=2,strides=2))\n",
        "  return model"
      ],
      "metadata": {
        "id": "FyN6T2NNcIBn"
      },
      "execution_count": null,
      "outputs": []
    },
    {
      "cell_type": "code",
      "source": [
        "input1 = Input(shape=(x_train.shape[1:]))\n",
        "hidden0 = cnn_block(512,5)(input1)\n",
        "hidden1 = cnn_block(256,5)(hidden0)\n",
        "hidden2 = cnn_block(128,5)(hidden1)\n",
        "hidden3 = cnn_block(64,3)(hidden2)\n",
        "hidden4 = Flatten()(hidden3)\n",
        "hidden5 = Dense(129, activation='relu')(hidden4)\n",
        "hidden6 = Dropout(0.3)(hidden5)\n",
        "output = Dense(7, activation='softmax')(hidden6)\n"
      ],
      "metadata": {
        "id": "VnROwE5HcU_j"
      },
      "execution_count": null,
      "outputs": []
    },
    {
      "cell_type": "code",
      "source": [
        "model = Model(inputs=input1, outputs=output)\n",
        "\n",
        "model.compile(loss='categorical_crossentropy',\n",
        "                   optimizer='adam',\n",
        "                   metrics=['acc'])\n",
        "model.summary()"
      ],
      "metadata": {
        "colab": {
          "base_uri": "https://localhost:8080/"
        },
        "id": "rqWRN_1ScXcd",
        "outputId": "54757916-7419-4b30-b81a-65d8e251c3bd"
      },
      "execution_count": null,
      "outputs": [
        {
          "output_type": "stream",
          "name": "stdout",
          "text": [
            "Model: \"model\"\n",
            "_________________________________________________________________\n",
            " Layer (type)                Output Shape              Param #   \n",
            "=================================================================\n",
            " input_1 (InputLayer)        [(None, 2376, 1)]         0         \n",
            "                                                                 \n",
            " sequential (Sequential)     (None, 1188, 512)         5120      \n",
            "                                                                 \n",
            " sequential_1 (Sequential)   (None, 594, 256)          656640    \n",
            "                                                                 \n",
            " sequential_2 (Sequential)   (None, 297, 128)          164480    \n",
            "                                                                 \n",
            " sequential_3 (Sequential)   (None, 148, 64)           24896     \n",
            "                                                                 \n",
            " flatten (Flatten)           (None, 9472)              0         \n",
            "                                                                 \n",
            " dense (Dense)               (None, 129)               1222017   \n",
            "                                                                 \n",
            " dropout (Dropout)           (None, 129)               0         \n",
            "                                                                 \n",
            " dense_1 (Dense)             (None, 7)                 910       \n",
            "                                                                 \n",
            "=================================================================\n",
            "Total params: 2074063 (7.91 MB)\n",
            "Trainable params: 2072143 (7.90 MB)\n",
            "Non-trainable params: 1920 (7.50 KB)\n",
            "_________________________________________________________________\n"
          ]
        }
      ]
    },
    {
      "cell_type": "code",
      "source": [
        "history=model.fit(x_train, y_train, epochs=50, validation_data=(x_test, y_test), batch_size=64)"
      ],
      "metadata": {
        "colab": {
          "base_uri": "https://localhost:8080/"
        },
        "id": "MiZCU8GLcaA7",
        "outputId": "bf2abf55-87eb-4e6d-ef77-5cfcbe0c2aae"
      },
      "execution_count": null,
      "outputs": [
        {
          "output_type": "stream",
          "name": "stdout",
          "text": [
            "Epoch 1/50\n",
            "609/609 [==============================] - 138s 198ms/step - loss: 1.6045 - acc: 0.3488 - val_loss: 1.4526 - val_acc: 0.4180\n",
            "Epoch 2/50\n",
            "609/609 [==============================] - 120s 197ms/step - loss: 1.3487 - acc: 0.4531 - val_loss: 1.2154 - val_acc: 0.5112\n",
            "Epoch 3/50\n",
            "609/609 [==============================] - 124s 203ms/step - loss: 1.2154 - acc: 0.5058 - val_loss: 1.0679 - val_acc: 0.5818\n",
            "Epoch 4/50\n",
            "609/609 [==============================] - 122s 200ms/step - loss: 1.1149 - acc: 0.5485 - val_loss: 1.0604 - val_acc: 0.5773\n",
            "Epoch 5/50\n",
            "609/609 [==============================] - 125s 205ms/step - loss: 1.0389 - acc: 0.5782 - val_loss: 0.9970 - val_acc: 0.6051\n",
            "Epoch 6/50\n",
            "609/609 [==============================] - 122s 200ms/step - loss: 0.9652 - acc: 0.6087 - val_loss: 0.9000 - val_acc: 0.6511\n",
            "Epoch 7/50\n",
            "609/609 [==============================] - 122s 200ms/step - loss: 0.8824 - acc: 0.6432 - val_loss: 0.8464 - val_acc: 0.6748\n",
            "Epoch 8/50\n",
            "609/609 [==============================] - 125s 205ms/step - loss: 0.7963 - acc: 0.6800 - val_loss: 0.7881 - val_acc: 0.6959\n",
            "Epoch 9/50\n",
            "609/609 [==============================] - 122s 200ms/step - loss: 0.7242 - acc: 0.7086 - val_loss: 0.7438 - val_acc: 0.7113\n",
            "Epoch 10/50\n",
            "609/609 [==============================] - 125s 205ms/step - loss: 0.6617 - acc: 0.7315 - val_loss: 0.6539 - val_acc: 0.7546\n",
            "Epoch 11/50\n",
            "609/609 [==============================] - 122s 200ms/step - loss: 0.5818 - acc: 0.7667 - val_loss: 0.6193 - val_acc: 0.7645\n",
            "Epoch 12/50\n",
            "609/609 [==============================] - 122s 200ms/step - loss: 0.5209 - acc: 0.7921 - val_loss: 0.5947 - val_acc: 0.7858\n",
            "Epoch 13/50\n",
            "609/609 [==============================] - 124s 204ms/step - loss: 0.4759 - acc: 0.8094 - val_loss: 0.5524 - val_acc: 0.7949\n",
            "Epoch 14/50\n",
            "609/609 [==============================] - 122s 200ms/step - loss: 0.4302 - acc: 0.8295 - val_loss: 0.5186 - val_acc: 0.8209\n",
            "Epoch 15/50\n",
            "609/609 [==============================] - 124s 204ms/step - loss: 0.3938 - acc: 0.8448 - val_loss: 0.4967 - val_acc: 0.8369\n",
            "Epoch 16/50\n",
            "609/609 [==============================] - 122s 201ms/step - loss: 0.3562 - acc: 0.8604 - val_loss: 0.4641 - val_acc: 0.8442\n",
            "Epoch 17/50\n",
            "609/609 [==============================] - 125s 205ms/step - loss: 0.3302 - acc: 0.8704 - val_loss: 0.4213 - val_acc: 0.8541\n",
            "Epoch 18/50\n",
            "609/609 [==============================] - 122s 201ms/step - loss: 0.3129 - acc: 0.8794 - val_loss: 0.3920 - val_acc: 0.8689\n",
            "Epoch 19/50\n",
            "609/609 [==============================] - 122s 201ms/step - loss: 0.2912 - acc: 0.8858 - val_loss: 0.3918 - val_acc: 0.8681\n",
            "Epoch 20/50\n",
            "609/609 [==============================] - 123s 201ms/step - loss: 0.2733 - acc: 0.8936 - val_loss: 0.4020 - val_acc: 0.8718\n",
            "Epoch 21/50\n",
            "609/609 [==============================] - 125s 205ms/step - loss: 0.2640 - acc: 0.8989 - val_loss: 0.4005 - val_acc: 0.8688\n",
            "Epoch 22/50\n",
            "609/609 [==============================] - 123s 201ms/step - loss: 0.2415 - acc: 0.9056 - val_loss: 0.3681 - val_acc: 0.8834\n",
            "Epoch 23/50\n",
            "609/609 [==============================] - 125s 205ms/step - loss: 0.2348 - acc: 0.9087 - val_loss: 0.4105 - val_acc: 0.8714\n",
            "Epoch 24/50\n",
            "609/609 [==============================] - 125s 205ms/step - loss: 0.2194 - acc: 0.9166 - val_loss: 0.3847 - val_acc: 0.8786\n",
            "Epoch 25/50\n",
            "609/609 [==============================] - 122s 201ms/step - loss: 0.2145 - acc: 0.9196 - val_loss: 0.3469 - val_acc: 0.8916\n",
            "Epoch 26/50\n",
            "609/609 [==============================] - 122s 201ms/step - loss: 0.2135 - acc: 0.9191 - val_loss: 0.3640 - val_acc: 0.8961\n",
            "Epoch 27/50\n",
            "609/609 [==============================] - 125s 205ms/step - loss: 0.1991 - acc: 0.9253 - val_loss: 0.3380 - val_acc: 0.8966\n",
            "Epoch 28/50\n",
            "609/609 [==============================] - 125s 205ms/step - loss: 0.1868 - acc: 0.9285 - val_loss: 0.3024 - val_acc: 0.9062\n",
            "Epoch 29/50\n",
            "609/609 [==============================] - 125s 205ms/step - loss: 0.1765 - acc: 0.9327 - val_loss: 0.3305 - val_acc: 0.9069\n",
            "Epoch 30/50\n",
            "609/609 [==============================] - 125s 205ms/step - loss: 0.1771 - acc: 0.9336 - val_loss: 0.2935 - val_acc: 0.9099\n",
            "Epoch 31/50\n",
            "609/609 [==============================] - 125s 205ms/step - loss: 0.1642 - acc: 0.9391 - val_loss: 0.2925 - val_acc: 0.9104\n",
            "Epoch 32/50\n",
            "609/609 [==============================] - 125s 205ms/step - loss: 0.1643 - acc: 0.9377 - val_loss: 0.3111 - val_acc: 0.9113\n",
            "Epoch 33/50\n",
            "609/609 [==============================] - 122s 201ms/step - loss: 0.1560 - acc: 0.9416 - val_loss: 0.3117 - val_acc: 0.9092\n",
            "Epoch 34/50\n",
            "609/609 [==============================] - 125s 205ms/step - loss: 0.1516 - acc: 0.9439 - val_loss: 0.3667 - val_acc: 0.9042\n",
            "Epoch 35/50\n",
            "609/609 [==============================] - 125s 205ms/step - loss: 0.1428 - acc: 0.9470 - val_loss: 0.3126 - val_acc: 0.9185\n",
            "Epoch 36/50\n",
            "609/609 [==============================] - 125s 205ms/step - loss: 0.1429 - acc: 0.9462 - val_loss: 0.3121 - val_acc: 0.9180\n",
            "Epoch 37/50\n",
            "609/609 [==============================] - 125s 205ms/step - loss: 0.1456 - acc: 0.9475 - val_loss: 0.3051 - val_acc: 0.9159\n",
            "Epoch 38/50\n",
            "609/609 [==============================] - 122s 201ms/step - loss: 0.1344 - acc: 0.9498 - val_loss: 0.3250 - val_acc: 0.9131\n",
            "Epoch 39/50\n",
            "609/609 [==============================] - 123s 201ms/step - loss: 0.1359 - acc: 0.9487 - val_loss: 0.2528 - val_acc: 0.9273\n",
            "Epoch 40/50\n",
            "609/609 [==============================] - 123s 201ms/step - loss: 0.1354 - acc: 0.9503 - val_loss: 0.3043 - val_acc: 0.9224\n",
            "Epoch 41/50\n",
            "609/609 [==============================] - 122s 201ms/step - loss: 0.1184 - acc: 0.9564 - val_loss: 0.3219 - val_acc: 0.9219\n",
            "Epoch 42/50\n",
            "609/609 [==============================] - 122s 201ms/step - loss: 0.1249 - acc: 0.9540 - val_loss: 0.2629 - val_acc: 0.9275\n",
            "Epoch 43/50\n",
            "609/609 [==============================] - 122s 201ms/step - loss: 0.1126 - acc: 0.9580 - val_loss: 0.3011 - val_acc: 0.9217\n",
            "Epoch 44/50\n",
            "609/609 [==============================] - 122s 201ms/step - loss: 0.1166 - acc: 0.9575 - val_loss: 0.2887 - val_acc: 0.9251\n",
            "Epoch 45/50\n",
            "609/609 [==============================] - 122s 201ms/step - loss: 0.1129 - acc: 0.9588 - val_loss: 0.2928 - val_acc: 0.9295\n",
            "Epoch 46/50\n",
            "609/609 [==============================] - 125s 205ms/step - loss: 0.1094 - acc: 0.9598 - val_loss: 0.2868 - val_acc: 0.9306\n",
            "Epoch 47/50\n",
            "609/609 [==============================] - 125s 205ms/step - loss: 0.1083 - acc: 0.9608 - val_loss: 0.3160 - val_acc: 0.9281\n",
            "Epoch 48/50\n",
            "609/609 [==============================] - 122s 201ms/step - loss: 0.1147 - acc: 0.9598 - val_loss: 0.2846 - val_acc: 0.9224\n",
            "Epoch 49/50\n",
            "609/609 [==============================] - 125s 205ms/step - loss: 0.1073 - acc: 0.9610 - val_loss: 0.3098 - val_acc: 0.9276\n",
            "Epoch 50/50\n",
            "609/609 [==============================] - 122s 201ms/step - loss: 0.0979 - acc: 0.9642 - val_loss: 0.2739 - val_acc: 0.9341\n"
          ]
        }
      ]
    },
    {
      "cell_type": "markdown",
      "source": [
        "# Evaluation model"
      ],
      "metadata": {
        "id": "pbvGoiPUchNF"
      }
    },
    {
      "cell_type": "code",
      "source": [
        "print(\"Accuratezza del modello sui dati di test: \" , model.evaluate(x_test,y_test)[1]*100 , \"%\")\n",
        "\n",
        "epochs = [i for i in range(50)]\n",
        "fig , ax = plt.subplots(1,2)\n",
        "train_acc = history.history['acc']\n",
        "train_loss = history.history['loss']\n",
        "test_acc = history.history['val_acc']\n",
        "test_loss = history.history['val_loss']\n",
        "\n",
        "fig.set_size_inches(20,6)\n",
        "ax[0].plot(epochs , train_loss , label = 'Training Loss')\n",
        "ax[0].plot(epochs , test_loss , label = 'Testing Loss')\n",
        "ax[0].set_title('Training & Testing Loss')\n",
        "ax[0].legend()\n",
        "ax[0].set_xlabel(\"Epochs\")\n",
        "\n",
        "ax[1].plot(epochs , train_acc , label = 'Training Accuracy')\n",
        "ax[1].plot(epochs , test_acc , label = 'Testing Accuracy')\n",
        "ax[1].set_title('Training & Testing Accuracy')\n",
        "ax[1].legend()\n",
        "ax[1].set_xlabel(\"Epochs\")\n",
        "plt.show()"
      ],
      "metadata": {
        "colab": {
          "base_uri": "https://localhost:8080/",
          "height": 457
        },
        "id": "-BGIob1NckbS",
        "outputId": "ccb09f3e-77a8-4bb6-f1ac-23bac6c8f6dd"
      },
      "execution_count": null,
      "outputs": [
        {
          "output_type": "stream",
          "name": "stdout",
          "text": [
            "305/305 [==============================] - 11s 34ms/step - loss: 0.2739 - acc: 0.9341\n",
            "Accuratezza del modello sui dati di test:  93.41212511062622 %\n"
          ]
        },
        {
          "output_type": "display_data",
          "data": {
            "text/plain": [
              "<Figure size 2000x600 with 2 Axes>"
            ],
            "image/png": "[encoded data removed]"
          },
          "metadata": {}
        }
      ]
    },
    {
      "cell_type": "code",
      "source": [
        "# predicting on test data.\n",
        "pred_test = model.predict(x_test)\n",
        "y_pred = encoder.inverse_transform(pred_test)\n",
        "\n",
        "y_test = encoder.inverse_transform(y_test)"
      ],
      "metadata": {
        "colab": {
          "base_uri": "https://localhost:8080/"
        },
        "id": "4uo-Z-XFcoA0",
        "outputId": "5d41cfd7-b992-4d30-caf0-e02040366f30"
      },
      "execution_count": null,
      "outputs": [
        {
          "output_type": "stream",
          "name": "stdout",
          "text": [
            "305/305 [==============================] - 11s 34ms/step\n"
          ]
        }
      ]
    },
    {
      "cell_type": "code",
      "source": [
        "df = pd.DataFrame(columns=['Predicted Labels', 'Actual Labels'])\n",
        "df['Predicted Labels'] = y_pred.flatten()\n",
        "df['Actual Labels'] = y_test.flatten()\n",
        "\n",
        "df.head(10)"
      ],
      "metadata": {
        "colab": {
          "base_uri": "https://localhost:8080/",
          "height": 363
        },
        "id": "z8os071fcn-O",
        "outputId": "7ed91c56-786c-44be-819b-9560b5ecf9d4"
      },
      "execution_count": null,
      "outputs": [
        {
          "output_type": "execute_result",
          "data": {
            "text/plain": [
              "  Predicted Labels Actual Labels\n",
              "0            angry         angry\n",
              "1              sad           sad\n",
              "2          neutral       neutral\n",
              "3              sad           sad\n",
              "4            angry         angry\n",
              "5              sad           sad\n",
              "6             fear          fear\n",
              "7          neutral       neutral\n",
              "8            angry         angry\n",
              "9              sad           sad"
            ],
            "text/html": [
              "\n",
              "  <div id=\"df-84f79efe-130f-4e77-b25c-7f3403edbd05\" class=\"colab-df-container\">\n",
              "    <div>\n",
              "<style scoped>\n",
              "    .dataframe tbody tr th:only-of-type {\n",
              "        vertical-align: middle;\n",
              "    }\n",
              "\n",
              "    .dataframe tbody tr th {\n",
              "        vertical-align: top;\n",
              "    }\n",
              "\n",
              "    .dataframe thead th {\n",
              "        text-align: right;\n",
              "    }\n",
              "</style>\n",
              "<table border=\"1\" class=\"dataframe\">\n",
              "  <thead>\n",
              "    <tr style=\"text-align: right;\">\n",
              "      <th></th>\n",
              "      <th>Predicted Labels</th>\n",
              "      <th>Actual Labels</th>\n",
              "    </tr>\n",
              "  </thead>\n",
              "  <tbody>\n",
              "    <tr>\n",
              "      <th>0</th>\n",
              "      <td>angry</td>\n",
              "      <td>angry</td>\n",
              "    </tr>\n",
              "    <tr>\n",
              "      <th>1</th>\n",
              "      <td>sad</td>\n",
              "      <td>sad</td>\n",
              "    </tr>\n",
              "    <tr>\n",
              "      <th>2</th>\n",
              "      <td>neutral</td>\n",
              "      <td>neutral</td>\n",
              "    </tr>\n",
              "    <tr>\n",
              "      <th>3</th>\n",
              "      <td>sad</td>\n",
              "      <td>sad</td>\n",
              "    </tr>\n",
              "    <tr>\n",
              "      <th>4</th>\n",
              "      <td>angry</td>\n",
              "      <td>angry</td>\n",
              "    </tr>\n",
              "    <tr>\n",
              "      <th>5</th>\n",
              "      <td>sad</td>\n",
              "      <td>sad</td>\n",
              "    </tr>\n",
              "    <tr>\n",
              "      <th>6</th>\n",
              "      <td>fear</td>\n",
              "      <td>fear</td>\n",
              "    </tr>\n",
              "    <tr>\n",
              "      <th>7</th>\n",
              "      <td>neutral</td>\n",
              "      <td>neutral</td>\n",
              "    </tr>\n",
              "    <tr>\n",
              "      <th>8</th>\n",
              "      <td>angry</td>\n",
              "      <td>angry</td>\n",
              "    </tr>\n",
              "    <tr>\n",
              "      <th>9</th>\n",
              "      <td>sad</td>\n",
              "      <td>sad</td>\n",
              "    </tr>\n",
              "  </tbody>\n",
              "</table>\n",
              "</div>\n",
              "    <div class=\"colab-df-buttons\">\n",
              "\n",
              "  <div class=\"colab-df-container\">\n",
              "    <button class=\"colab-df-convert\" onclick=\"convertToInteractive('df-84f79efe-130f-4e77-b25c-7f3403edbd05')\"\n",
              "            title=\"Convert this dataframe to an interactive table.\"\n",
              "            style=\"display:none;\">\n",
              "\n",
              "  <svg xmlns=\"http://www.w3.org/2000/svg\" height=\"24px\" viewBox=\"0 -960 960 960\">\n",
              "    <path d=\"M120-120v-720h720v720H120Zm60-500h600v-160H180v160Zm220 220h160v-160H400v160Zm0 220h160v-160H400v160ZM180-400h160v-160H180v160Zm440 0h160v-160H620v160ZM180-180h160v-160H180v160Zm440 0h160v-160H620v160Z\"/>\n",
              "  </svg>\n",
              "    </button>\n",
              "\n",
              "  <style>\n",
              "    .colab-df-container {\n",
              "      display:flex;\n",
              "      gap: 12px;\n",
              "    }\n",
              "\n",
              "    .colab-df-convert {\n",
              "      background-color: #E8F0FE;\n",
              "      border: none;\n",
              "      border-radius: 50%;\n",
              "      cursor: pointer;\n",
              "      display: none;\n",
              "      fill: #1967D2;\n",
              "      height: 32px;\n",
              "      padding: 0 0 0 0;\n",
              "      width: 32px;\n",
              "    }\n",
              "\n",
              "    .colab-df-convert:hover {\n",
              "      background-color: #E2EBFA;\n",
              "      box-shadow: 0px 1px 2px rgba(60, 64, 67, 0.3), 0px 1px 3px 1px rgba(60, 64, 67, 0.15);\n",
              "      fill: #174EA6;\n",
              "    }\n",
              "\n",
              "    .colab-df-buttons div {\n",
              "      margin-bottom: 4px;\n",
              "    }\n",
              "\n",
              "    [theme=dark] .colab-df-convert {\n",
              "      background-color: #3B4455;\n",
              "      fill: #D2E3FC;\n",
              "    }\n",
              "\n",
              "    [theme=dark] .colab-df-convert:hover {\n",
              "      background-color: #434B5C;\n",
              "      box-shadow: 0px 1px 3px 1px rgba(0, 0, 0, 0.15);\n",
              "      filter: drop-shadow(0px 1px 2px rgba(0, 0, 0, 0.3));\n",
              "      fill: #FFFFFF;\n",
              "    }\n",
              "  </style>\n",
              "\n",
              "    <script>\n",
              "      const buttonEl =\n",
              "        document.querySelector('#df-84f79efe-130f-4e77-b25c-7f3403edbd05 button.colab-df-convert');\n",
              "      buttonEl.style.display =\n",
              "        google.colab.kernel.accessAllowed ? 'block' : 'none';\n",
              "\n",
              "      async function convertToInteractive(key) {\n",
              "        const element = document.querySelector('#df-84f79efe-130f-4e77-b25c-7f3403edbd05');\n",
              "        const dataTable =\n",
              "          await google.colab.kernel.invokeFunction('convertToInteractive',\n",
              "                                                    [key], {});\n",
              "        if (!dataTable) return;\n",
              "\n",
              "        const docLinkHtml = 'Like what you see? Visit the ' +\n",
              "          '<a target=\"_blank\" href=https://colab.research.google.com/notebooks/data_table.ipynb>data table notebook</a>'\n",
              "          + ' to learn more about interactive tables.';\n",
              "        element.innerHTML = '';\n",
              "        dataTable['output_type'] = 'display_data';\n",
              "        await google.colab.output.renderOutput(dataTable, element);\n",
              "        const docLink = document.createElement('div');\n",
              "        docLink.innerHTML = docLinkHtml;\n",
              "        element.appendChild(docLink);\n",
              "      }\n",
              "    </script>\n",
              "  </div>\n",
              "\n",
              "\n",
              "<div id=\"df-d4163127-bb69-4ac2-9a71-30c61ac85c4a\">\n",
              "  <button class=\"colab-df-quickchart\" onclick=\"quickchart('df-d4163127-bb69-4ac2-9a71-30c61ac85c4a')\"\n",
              "            title=\"Suggest charts.\"\n",
              "            style=\"display:none;\">\n",
              "\n",
              "<svg xmlns=\"http://www.w3.org/2000/svg\" height=\"24px\"viewBox=\"0 0 24 24\"\n",
              "     width=\"24px\">\n",
              "    <g>\n",
              "        <path d=\"M19 3H5c-1.1 0-2 .9-2 2v14c0 1.1.9 2 2 2h14c1.1 0 2-.9 2-2V5c0-1.1-.9-2-2-2zM9 17H7v-7h2v7zm4 0h-2V7h2v10zm4 0h-2v-4h2v4z\"/>\n",
              "    </g>\n",
              "</svg>\n",
              "  </button>\n",
              "\n",
              "<style>\n",
              "  .colab-df-quickchart {\n",
              "      --bg-color: #E8F0FE;\n",
              "      --fill-color: #1967D2;\n",
              "      --hover-bg-color: #E2EBFA;\n",
              "      --hover-fill-color: #174EA6;\n",
              "      --disabled-fill-color: #AAA;\n",
              "      --disabled-bg-color: #DDD;\n",
              "  }\n",
              "\n",
              "  [theme=dark] .colab-df-quickchart {\n",
              "      --bg-color: #3B4455;\n",
              "      --fill-color: #D2E3FC;\n",
              "      --hover-bg-color: #434B5C;\n",
              "      --hover-fill-color: #FFFFFF;\n",
              "      --disabled-bg-color: #3B4455;\n",
              "      --disabled-fill-color: #666;\n",
              "  }\n",
              "\n",
              "  .colab-df-quickchart {\n",
              "    background-color: var(--bg-color);\n",
              "    border: none;\n",
              "    border-radius: 50%;\n",
              "    cursor: pointer;\n",
              "    display: none;\n",
              "    fill: var(--fill-color);\n",
              "    height: 32px;\n",
              "    padding: 0;\n",
              "    width: 32px;\n",
              "  }\n",
              "\n",
              "  .colab-df-quickchart:hover {\n",
              "    background-color: var(--hover-bg-color);\n",
              "    box-shadow: 0 1px 2px rgba(60, 64, 67, 0.3), 0 1px 3px 1px rgba(60, 64, 67, 0.15);\n",
              "    fill: var(--button-hover-fill-color);\n",
              "  }\n",
              "\n",
              "  .colab-df-quickchart-complete:disabled,\n",
              "  .colab-df-quickchart-complete:disabled:hover {\n",
              "    background-color: var(--disabled-bg-color);\n",
              "    fill: var(--disabled-fill-color);\n",
              "    box-shadow: none;\n",
              "  }\n",
              "\n",
              "  .colab-df-spinner {\n",
              "    border: 2px solid var(--fill-color);\n",
              "    border-color: transparent;\n",
              "    border-bottom-color: var(--fill-color);\n",
              "    animation:\n",
              "      spin 1s steps(1) infinite;\n",
              "  }\n",
              "\n",
              "  @keyframes spin {\n",
              "    0% {\n",
              "      border-color: transparent;\n",
              "      border-bottom-color: var(--fill-color);\n",
              "      border-left-color: var(--fill-color);\n",
              "    }\n",
              "    20% {\n",
              "      border-color: transparent;\n",
              "      border-left-color: var(--fill-color);\n",
              "      border-top-color: var(--fill-color);\n",
              "    }\n",
              "    30% {\n",
              "      border-color: transparent;\n",
              "      border-left-color: var(--fill-color);\n",
              "      border-top-color: var(--fill-color);\n",
              "      border-right-color: var(--fill-color);\n",
              "    }\n",
              "    40% {\n",
              "      border-color: transparent;\n",
              "      border-right-color: var(--fill-color);\n",
              "      border-top-color: var(--fill-color);\n",
              "    }\n",
              "    60% {\n",
              "      border-color: transparent;\n",
              "      border-right-color: var(--fill-color);\n",
              "    }\n",
              "    80% {\n",
              "      border-color: transparent;\n",
              "      border-right-color: var(--fill-color);\n",
              "      border-bottom-color: var(--fill-color);\n",
              "    }\n",
              "    90% {\n",
              "      border-color: transparent;\n",
              "      border-bottom-color: var(--fill-color);\n",
              "    }\n",
              "  }\n",
              "</style>\n",
              "\n",
              "  <script>\n",
              "    async function quickchart(key) {\n",
              "      const quickchartButtonEl =\n",
              "        document.querySelector('#' + key + ' button');\n",
              "      quickchartButtonEl.disabled = true;  // To prevent multiple clicks.\n",
              "      quickchartButtonEl.classList.add('colab-df-spinner');\n",
              "      try {\n",
              "        const charts = await google.colab.kernel.invokeFunction(\n",
              "            'suggestCharts', [key], {});\n",
              "      } catch (error) {\n",
              "        console.error('Error during call to suggestCharts:', error);\n",
              "      }\n",
              "      quickchartButtonEl.classList.remove('colab-df-spinner');\n",
              "      quickchartButtonEl.classList.add('colab-df-quickchart-complete');\n",
              "    }\n",
              "    (() => {\n",
              "      let quickchartButtonEl =\n",
              "        document.querySelector('#df-d4163127-bb69-4ac2-9a71-30c61ac85c4a button');\n",
              "      quickchartButtonEl.style.display =\n",
              "        google.colab.kernel.accessAllowed ? 'block' : 'none';\n",
              "    })();\n",
              "  </script>\n",
              "</div>\n",
              "    </div>\n",
              "  </div>\n"
            ]
          },
          "metadata": {},
          "execution_count": 18
        }
      ]
    },
    {
      "cell_type": "code",
      "source": [
        "cm = confusion_matrix(y_test, y_pred)\n",
        "plt.figure(figsize = (12, 10))\n",
        "cm = pd.DataFrame(cm , index = [i for i in encoder.categories_] , columns = [i for i in encoder.categories_])\n",
        "sns.heatmap(cm, linecolor='white', cmap='Blues', linewidth=1, annot=True, fmt='')\n",
        "plt.title('Confusion Matrix', size=20)\n",
        "plt.xlabel('Predicted Labels', size=14)\n",
        "plt.ylabel('Actual Labels', size=14)\n",
        "plt.show()"
      ],
      "metadata": {
        "colab": {
          "base_uri": "https://localhost:8080/",
          "height": 885
        },
        "id": "NnfCbO9Ucn8O",
        "outputId": "ee06baf6-25f6-4809-9112-9fc41b1997f5"
      },
      "execution_count": null,
      "outputs": [
        {
          "output_type": "display_data",
          "data": {
            "text/plain": [
              "<Figure size 1200x1000 with 2 Axes>"
            ],
            "image/png": "[encoded data removed]"
          },
          "metadata": {}
        }
      ]
    },
    {
      "cell_type": "code",
      "source": [
        "print(classification_report(y_test, y_pred))"
      ],
      "metadata": {
        "colab": {
          "base_uri": "https://localhost:8080/"
        },
        "id": "I-uzHNyLcn50",
        "outputId": "f79c7b64-b9d6-42c2-e237-7d576175f15b"
      },
      "execution_count": null,
      "outputs": [
        {
          "output_type": "stream",
          "name": "stdout",
          "text": [
            "              precision    recall  f1-score   support\n",
            "\n",
            "       angry       0.92      0.97      0.94      1509\n",
            "     disgust       0.95      0.90      0.92      1482\n",
            "        fear       0.94      0.93      0.94      1539\n",
            "       happy       0.93      0.93      0.93      1545\n",
            "     neutral       0.93      0.94      0.93      1532\n",
            "         sad       0.93      0.93      0.93      1597\n",
            "    surprise       0.96      0.97      0.97       526\n",
            "\n",
            "    accuracy                           0.93      9730\n",
            "   macro avg       0.94      0.94      0.94      9730\n",
            "weighted avg       0.93      0.93      0.93      9730\n",
            "\n"
          ]
        }
      ]
    },
    {
      "cell_type": "markdown",
      "source": [
        "# Saving model"
      ],
      "metadata": {
        "id": "T8AwqXNDRSVD"
      }
    },
    {
      "cell_type": "code",
      "source": [
        "model.save(os.path.join('models','Speech_signal_features_V1_CNN.h5'))"
      ],
      "metadata": {
        "colab": {
          "base_uri": "https://localhost:8080/"
        },
        "id": "rTZhrBSfRVQd",
        "outputId": "84a8ca27-25db-4d27-c3a3-06a5ed74de3c"
      },
      "execution_count": null,
      "outputs": [
        {
          "output_type": "stream",
          "name": "stderr",
          "text": [
            "/usr/local/lib/python3.10/dist-packages/keras/src/engine/training.py:3000: UserWarning: You are saving your model as an HDF5 file via `model.save()`. This file format is considered legacy. We recommend using instead the native Keras format, e.g. `model.save('my_model.keras')`.\n",
            "  saving_api.save_model(\n"
          ]
        }
      ]
    }
  ]
}